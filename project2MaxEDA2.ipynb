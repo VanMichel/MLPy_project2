{
 "cells": [
  {
   "cell_type": "markdown",
   "metadata": {
    "cell_id": "a9c673f4b97f45d0975f547cb6070545",
    "deepnote_cell_type": "markdown"
   },
   "source": [
    "# Machine Learning in Python - Project 2\n",
    "\n",
    "Due Friday, April 12th by 4 pm.\n",
    "\n",
    "*Include contributors names in notebook metadata or here*"
   ]
  },
  {
   "cell_type": "markdown",
   "metadata": {
    "cell_id": "f6fb20cc81f34af892849ba423586298",
    "deepnote_cell_type": "markdown"
   },
   "source": [
    "## Setup\n",
    "\n",
    "*Install any packages here and load data*"
   ]
  },
  {
   "cell_type": "code",
   "execution_count": 105,
   "metadata": {},
   "outputs": [
    {
     "name": "stdout",
     "output_type": "stream",
     "text": [
      "Requirement already satisfied: imblearn in c:\\users\\miste\\appdata\\local\\programs\\python\\python312\\lib\\site-packages (0.0)\n",
      "Requirement already satisfied: imbalanced-learn in c:\\users\\miste\\appdata\\local\\programs\\python\\python312\\lib\\site-packages (from imblearn) (0.12.2)\n",
      "Requirement already satisfied: numpy>=1.17.3 in c:\\users\\miste\\appdata\\local\\programs\\python\\python312\\lib\\site-packages (from imbalanced-learn->imblearn) (1.26.4)\n",
      "Requirement already satisfied: scipy>=1.5.0 in c:\\users\\miste\\appdata\\local\\programs\\python\\python312\\lib\\site-packages (from imbalanced-learn->imblearn) (1.12.0)\n",
      "Requirement already satisfied: scikit-learn>=1.0.2 in c:\\users\\miste\\appdata\\local\\programs\\python\\python312\\lib\\site-packages (from imbalanced-learn->imblearn) (1.4.1.post1)\n",
      "Requirement already satisfied: joblib>=1.1.1 in c:\\users\\miste\\appdata\\local\\programs\\python\\python312\\lib\\site-packages (from imbalanced-learn->imblearn) (1.3.2)\n",
      "Requirement already satisfied: threadpoolctl>=2.0.0 in c:\\users\\miste\\appdata\\local\\programs\\python\\python312\\lib\\site-packages (from imbalanced-learn->imblearn) (3.3.0)\n",
      "Requirement already satisfied: geopandas in c:\\users\\miste\\appdata\\local\\programs\\python\\python312\\lib\\site-packages (0.14.3)\n",
      "Requirement already satisfied: fiona>=1.8.21 in c:\\users\\miste\\appdata\\local\\programs\\python\\python312\\lib\\site-packages (from geopandas) (1.9.6)\n",
      "Requirement already satisfied: packaging in c:\\users\\miste\\appdata\\roaming\\python\\python312\\site-packages (from geopandas) (24.0)\n",
      "Requirement already satisfied: pandas>=1.4.0 in c:\\users\\miste\\appdata\\local\\programs\\python\\python312\\lib\\site-packages (from geopandas) (2.2.1)\n",
      "Requirement already satisfied: pyproj>=3.3.0 in c:\\users\\miste\\appdata\\local\\programs\\python\\python312\\lib\\site-packages (from geopandas) (3.6.1)\n",
      "Requirement already satisfied: shapely>=1.8.0 in c:\\users\\miste\\appdata\\local\\programs\\python\\python312\\lib\\site-packages (from geopandas) (2.0.3)\n",
      "Requirement already satisfied: attrs>=19.2.0 in c:\\users\\miste\\appdata\\local\\programs\\python\\python312\\lib\\site-packages (from fiona>=1.8.21->geopandas) (23.2.0)\n",
      "Requirement already satisfied: certifi in c:\\users\\miste\\appdata\\local\\programs\\python\\python312\\lib\\site-packages (from fiona>=1.8.21->geopandas) (2024.2.2)\n",
      "Requirement already satisfied: click~=8.0 in c:\\users\\miste\\appdata\\local\\programs\\python\\python312\\lib\\site-packages (from fiona>=1.8.21->geopandas) (8.1.7)\n",
      "Requirement already satisfied: click-plugins>=1.0 in c:\\users\\miste\\appdata\\local\\programs\\python\\python312\\lib\\site-packages (from fiona>=1.8.21->geopandas) (1.1.1)\n",
      "Requirement already satisfied: cligj>=0.5 in c:\\users\\miste\\appdata\\local\\programs\\python\\python312\\lib\\site-packages (from fiona>=1.8.21->geopandas) (0.7.2)\n",
      "Requirement already satisfied: six in c:\\users\\miste\\appdata\\roaming\\python\\python312\\site-packages (from fiona>=1.8.21->geopandas) (1.16.0)\n",
      "Requirement already satisfied: numpy<2,>=1.26.0 in c:\\users\\miste\\appdata\\local\\programs\\python\\python312\\lib\\site-packages (from pandas>=1.4.0->geopandas) (1.26.4)\n",
      "Requirement already satisfied: python-dateutil>=2.8.2 in c:\\users\\miste\\appdata\\roaming\\python\\python312\\site-packages (from pandas>=1.4.0->geopandas) (2.9.0.post0)\n",
      "Requirement already satisfied: pytz>=2020.1 in c:\\users\\miste\\appdata\\local\\programs\\python\\python312\\lib\\site-packages (from pandas>=1.4.0->geopandas) (2024.1)\n",
      "Requirement already satisfied: tzdata>=2022.7 in c:\\users\\miste\\appdata\\local\\programs\\python\\python312\\lib\\site-packages (from pandas>=1.4.0->geopandas) (2024.1)\n",
      "Requirement already satisfied: colorama in c:\\users\\miste\\appdata\\roaming\\python\\python312\\site-packages (from click~=8.0->fiona>=1.8.21->geopandas) (0.4.6)\n"
     ]
    }
   ],
   "source": [
    "#install\n",
    "!pip install imblearn\n",
    "!pip install geopandas"
   ]
  },
  {
   "cell_type": "code",
   "execution_count": 143,
   "metadata": {
    "cell_id": "5e0f7c40d70f4ffd9cf842131c93b523",
    "deepnote_cell_type": "code"
   },
   "outputs": [],
   "source": [
    "# Add any additional libraries or submodules below\n",
    "from sklearn.model_selection import train_test_split\n",
    "from imblearn.over_sampling import RandomOverSampler\n",
    "from imblearn.under_sampling import RandomUnderSampler\n",
    "\n",
    "# Data libraries\n",
    "import pandas as pd\n",
    "import numpy as np\n",
    "import geopandas as gpd\n",
    "\n",
    "# Plotting libraries\n",
    "import matplotlib.pyplot as plt\n",
    "import seaborn as sns\n",
    "import xgboost\n",
    "\n",
    "# Plotting defaults\n",
    "plt.rcParams['figure.figsize'] = (8,5)\n",
    "plt.rcParams['figure.dpi'] = 80\n",
    "\n",
    "# sklearn modules\n",
    "import sklearn\n",
    "from sklearn.metrics import confusion_matrix\n",
    "from sklearn.compose import ColumnTransformer\n",
    "from sklearn.pipeline import make_pipeline\n",
    "from mpl_toolkits.mplot3d import Axes3D          # 3d plots\n",
    "from sklearn.preprocessing import StandardScaler # scaling features\n",
    "from sklearn.preprocessing import LabelEncoder   # binary encoding\n",
    "from sklearn.pipeline import Pipeline            # combining classifier steps\n",
    "from sklearn.preprocessing import OneHotEncoder, StandardScaler, OrdinalEncoder\n",
    "from sklearn.preprocessing import PolynomialFeatures # make PolynomialFeatures\n",
    "from sklearn.datasets import make_classification, make_moons  # make example data\n",
    "# from imblearn.metrics import classification_report_imbalanced\n",
    "from scipy.stats.distributions import uniform, loguniform\n",
    "from sklearn.model_selection import GridSearchCV, RandomizedSearchCV, KFold, StratifiedKFold\n",
    "from sklearn.metrics import accuracy_score\n",
    "from sklearn.model_selection import train_test_split\n",
    "from sklearn.metrics import classification_report\n",
    "\n",
    "# About Tree models\n",
    "from sklearn.tree import DecisionTreeClassifier\n",
    "from sklearn.ensemble import HistGradientBoostingClassifier\n",
    "from sklearn.ensemble import GradientBoostingClassifier\n",
    "from sklearn.ensemble import BaggingClassifier\n",
    "from sklearn.ensemble import RandomForestClassifier\n",
    "from sklearn import tree"
   ]
  },
  {
   "cell_type": "code",
   "execution_count": 107,
   "metadata": {
    "cell_id": "c4b2ebf63937440f9cec0090082b1a9f",
    "deepnote_cell_type": "code"
   },
   "outputs": [
    {
     "data": {
      "text/html": [
       "<div>\n",
       "<style scoped>\n",
       "    .dataframe tbody tr th:only-of-type {\n",
       "        vertical-align: middle;\n",
       "    }\n",
       "\n",
       "    .dataframe tbody tr th {\n",
       "        vertical-align: top;\n",
       "    }\n",
       "\n",
       "    .dataframe thead th {\n",
       "        text-align: right;\n",
       "    }\n",
       "</style>\n",
       "<table border=\"1\" class=\"dataframe\">\n",
       "  <thead>\n",
       "    <tr style=\"text-align: right;\">\n",
       "      <th></th>\n",
       "      <th>fico</th>\n",
       "      <th>dt_first_pi</th>\n",
       "      <th>flag_fthb</th>\n",
       "      <th>dt_matr</th>\n",
       "      <th>cd_msa</th>\n",
       "      <th>mi_pct</th>\n",
       "      <th>cnt_units</th>\n",
       "      <th>occpy_sts</th>\n",
       "      <th>cltv</th>\n",
       "      <th>dti</th>\n",
       "      <th>...</th>\n",
       "      <th>zipcode</th>\n",
       "      <th>id_loan</th>\n",
       "      <th>loan_purpose</th>\n",
       "      <th>orig_loan_term</th>\n",
       "      <th>cnt_borr</th>\n",
       "      <th>seller_name</th>\n",
       "      <th>servicer_name</th>\n",
       "      <th>flag_sc</th>\n",
       "      <th>prepaid</th>\n",
       "      <th>default</th>\n",
       "    </tr>\n",
       "  </thead>\n",
       "  <tbody>\n",
       "    <tr>\n",
       "      <th>0</th>\n",
       "      <td>709.0</td>\n",
       "      <td>201703</td>\n",
       "      <td>9</td>\n",
       "      <td>204702</td>\n",
       "      <td>NaN</td>\n",
       "      <td>12</td>\n",
       "      <td>1</td>\n",
       "      <td>P</td>\n",
       "      <td>84</td>\n",
       "      <td>26</td>\n",
       "      <td>...</td>\n",
       "      <td>51300</td>\n",
       "      <td>F117Q1000376</td>\n",
       "      <td>N</td>\n",
       "      <td>360</td>\n",
       "      <td>2</td>\n",
       "      <td>Other sellers</td>\n",
       "      <td>Other servicers</td>\n",
       "      <td>NaN</td>\n",
       "      <td>0</td>\n",
       "      <td>1</td>\n",
       "    </tr>\n",
       "    <tr>\n",
       "      <th>1</th>\n",
       "      <td>649.0</td>\n",
       "      <td>201703</td>\n",
       "      <td>9</td>\n",
       "      <td>203202</td>\n",
       "      <td>33124.0</td>\n",
       "      <td>0</td>\n",
       "      <td>1</td>\n",
       "      <td>P</td>\n",
       "      <td>52</td>\n",
       "      <td>22</td>\n",
       "      <td>...</td>\n",
       "      <td>33100</td>\n",
       "      <td>F117Q1000418</td>\n",
       "      <td>C</td>\n",
       "      <td>180</td>\n",
       "      <td>2</td>\n",
       "      <td>Other sellers</td>\n",
       "      <td>Other servicers</td>\n",
       "      <td>NaN</td>\n",
       "      <td>1</td>\n",
       "      <td>0</td>\n",
       "    </tr>\n",
       "    <tr>\n",
       "      <th>2</th>\n",
       "      <td>747.0</td>\n",
       "      <td>201703</td>\n",
       "      <td>9</td>\n",
       "      <td>203702</td>\n",
       "      <td>41180.0</td>\n",
       "      <td>0</td>\n",
       "      <td>1</td>\n",
       "      <td>I</td>\n",
       "      <td>43</td>\n",
       "      <td>20</td>\n",
       "      <td>...</td>\n",
       "      <td>63100</td>\n",
       "      <td>F117Q1000479</td>\n",
       "      <td>N</td>\n",
       "      <td>240</td>\n",
       "      <td>2</td>\n",
       "      <td>Other sellers</td>\n",
       "      <td>Other servicers</td>\n",
       "      <td>NaN</td>\n",
       "      <td>1</td>\n",
       "      <td>0</td>\n",
       "    </tr>\n",
       "    <tr>\n",
       "      <th>3</th>\n",
       "      <td>711.0</td>\n",
       "      <td>201703</td>\n",
       "      <td>9</td>\n",
       "      <td>204702</td>\n",
       "      <td>20260.0</td>\n",
       "      <td>0</td>\n",
       "      <td>1</td>\n",
       "      <td>I</td>\n",
       "      <td>80</td>\n",
       "      <td>21</td>\n",
       "      <td>...</td>\n",
       "      <td>55800</td>\n",
       "      <td>F117Q1000523</td>\n",
       "      <td>P</td>\n",
       "      <td>360</td>\n",
       "      <td>2</td>\n",
       "      <td>Other sellers</td>\n",
       "      <td>Other servicers</td>\n",
       "      <td>NaN</td>\n",
       "      <td>1</td>\n",
       "      <td>0</td>\n",
       "    </tr>\n",
       "    <tr>\n",
       "      <th>4</th>\n",
       "      <td>751.0</td>\n",
       "      <td>201703</td>\n",
       "      <td>N</td>\n",
       "      <td>204702</td>\n",
       "      <td>NaN</td>\n",
       "      <td>35</td>\n",
       "      <td>1</td>\n",
       "      <td>P</td>\n",
       "      <td>95</td>\n",
       "      <td>24</td>\n",
       "      <td>...</td>\n",
       "      <td>75900</td>\n",
       "      <td>F117Q1000719</td>\n",
       "      <td>P</td>\n",
       "      <td>360</td>\n",
       "      <td>1</td>\n",
       "      <td>Other sellers</td>\n",
       "      <td>ARVESTCENTRALMTGECO</td>\n",
       "      <td>NaN</td>\n",
       "      <td>1</td>\n",
       "      <td>0</td>\n",
       "    </tr>\n",
       "  </tbody>\n",
       "</table>\n",
       "<p>5 rows × 28 columns</p>\n",
       "</div>"
      ],
      "text/plain": [
       "    fico  dt_first_pi flag_fthb  dt_matr   cd_msa  mi_pct  cnt_units  \\\n",
       "0  709.0       201703         9   204702      NaN      12          1   \n",
       "1  649.0       201703         9   203202  33124.0       0          1   \n",
       "2  747.0       201703         9   203702  41180.0       0          1   \n",
       "3  711.0       201703         9   204702  20260.0       0          1   \n",
       "4  751.0       201703         N   204702      NaN      35          1   \n",
       "\n",
       "  occpy_sts  cltv  dti  ...  zipcode       id_loan  loan_purpose  \\\n",
       "0         P    84   26  ...    51300  F117Q1000376             N   \n",
       "1         P    52   22  ...    33100  F117Q1000418             C   \n",
       "2         I    43   20  ...    63100  F117Q1000479             N   \n",
       "3         I    80   21  ...    55800  F117Q1000523             P   \n",
       "4         P    95   24  ...    75900  F117Q1000719             P   \n",
       "\n",
       "  orig_loan_term cnt_borr    seller_name        servicer_name flag_sc  \\\n",
       "0            360        2  Other sellers      Other servicers     NaN   \n",
       "1            180        2  Other sellers      Other servicers     NaN   \n",
       "2            240        2  Other sellers      Other servicers     NaN   \n",
       "3            360        2  Other sellers      Other servicers     NaN   \n",
       "4            360        1  Other sellers  ARVESTCENTRALMTGECO     NaN   \n",
       "\n",
       "   prepaid default  \n",
       "0        0       1  \n",
       "1        1       0  \n",
       "2        1       0  \n",
       "3        1       0  \n",
       "4        1       0  \n",
       "\n",
       "[5 rows x 28 columns]"
      ]
     },
     "execution_count": 107,
     "metadata": {},
     "output_type": "execute_result"
    }
   ],
   "source": [
    "# Load data in easyshare.csv\n",
    "d = pd.read_csv(\"freddiemac.csv\")\n",
    "d.head()"
   ]
  },
  {
   "cell_type": "markdown",
   "metadata": {
    "cell_id": "2f8169f6321440e8b5ea4f531ad84e40",
    "deepnote_cell_type": "markdown"
   },
   "source": [
    "# Introduction"
   ]
  },
  {
   "cell_type": "markdown",
   "metadata": {},
   "source": [
    "The mortgage industry in the United States holds a significant position within the financial sector. To promote mortgage lending, construction, and home ownership, the federal government has established various programs known as government-sponsored entities. These programs comprise, among others, the Federal Home Loan Mortgage Corporation (commonly known as Freddie Mac). Since the $20th$ century, and even more lately, since the subprime mortgage crisis (one of the first indicator of the $2007-2008$ global economic crisis), the regulations associated with mortgage loans have increased. In order to reduce the number of clients defaulting, we have been asked to analyze loan-level credit performance data on fully amortizing fixed-rate Single-Family mortgages purchased or guaranteed by the company. Our goal is to identify modifiable risk factors that lead customers to default.\n",
    "\n",
    "The dataset used in this study, `freddiemac.csv`, consists of various demographic, personnal credit informations, and mortgage loan factors collected from individuals across the United States. With $28$ variables in total, these covariates are wide ranging and include the credit score, the debt-to-income ratio, the loan-to-value and the original loan term, the maturity date, the seller name, the loan purpose, the state within which the property is located, the interest rate of the loan and several more. We are interested in finding whether these variables have an effect on the chance of a consumer defaulting or not. \n",
    "\n",
    "Clearly there are many potentially signifant variables here that relate to the financial capacity of an individual, as well as their socio-economic background and loan characteristics, and each can prove useful in the identification of potential risk factors for defaulting.\n",
    "It is important to remind ourselves that this study was conducted only in $2017-2018$, and only contains loans that have defaulted or been paid off are considered. The dataset contains $6104$ observations in total, and while some observations might contain missing values, the dataset is large enough to prove useful in building a predictive model.\n",
    "\n",
    "We first considered implementing different models such as decision trees (gradient boost classifier), support vector machines and neural network. However, we found that, even if good results were derived, such models were too hard to explain. Unfortunately, we would not have been able to fully advise your corporation and its investors to build a more accurate credit performance models.\n",
    "\n",
    "Therefore, to indentify potential risks and propose possible solutions, we train a logistic regression classifier model. We determined that this model gave really good performance and was easily interpretable. By analyzing its coefficients we identify and suggest several important factors that have impact on defaulting and for which preventive measures could be taken. \n",
    "First, we will perform Exploratory Data Analysis to better understand the data and potentially identfy meaningful relationships between the response and the explanatory variables."
   ]
  },
  {
   "cell_type": "markdown",
   "metadata": {
    "cell_id": "39bbd2e9126647069f9c854fc6876df9",
    "deepnote_cell_type": "markdown"
   },
   "source": [
    "# Exploratory Data Analysis and Feature Engineering"
   ]
  },
  {
   "cell_type": "markdown",
   "metadata": {},
   "source": [
    "Before modelling, we will start with Exploratory Data Analysis to gain an understanding of the data, through descriptive statistics and visualizations."
   ]
  },
  {
   "cell_type": "code",
   "execution_count": 108,
   "metadata": {},
   "outputs": [],
   "source": [
    "d.loc[d[\"flag_fthb\"] == \"9\", \"flag_fthb\"] = float(\"nan\")\n",
    "d.loc[d[\"cltv\"] == 999, \"cltv\"] = float(\"nan\")\n",
    "d.loc[d[\"dti\"] == 999, \"dti\"] = float(\"nan\")\n",
    "d.loc[d[\"ltv\"] == 999, \"ltv\"] = float(\"nan\")\n",
    "\n",
    "d.loc[d[\"flag_sc\"].isna(), \"flag_sc\"] = \"N\""
   ]
  },
  {
   "cell_type": "markdown",
   "metadata": {},
   "source": [
    "First of all, we start by encoding the missing codes from the dataset with NAs. Here, we consider the non-sensical values, which are the values that represents lack of informations for a variable but that were not initially represented as NAs. We also encode the NAs from the flag_sc variable as the boolean 'No', as it has been uncorrectly transferred."
   ]
  },
  {
   "cell_type": "code",
   "execution_count": 109,
   "metadata": {},
   "outputs": [
    {
     "name": "stdout",
     "output_type": "stream",
     "text": [
      "<class 'pandas.core.frame.DataFrame'>\n",
      "RangeIndex: 6104 entries, 0 to 6103\n",
      "Data columns (total 28 columns):\n",
      " #   Column          Non-Null Count  Dtype  \n",
      "---  ------          --------------  -----  \n",
      " 0   fico            6103 non-null   float64\n",
      " 1   dt_first_pi     6104 non-null   int64  \n",
      " 2   flag_fthb       2636 non-null   object \n",
      " 3   dt_matr         6104 non-null   int64  \n",
      " 4   cd_msa          5510 non-null   float64\n",
      " 5   mi_pct          6104 non-null   int64  \n",
      " 6   cnt_units       6104 non-null   int64  \n",
      " 7   occpy_sts       6104 non-null   object \n",
      " 8   cltv            6103 non-null   float64\n",
      " 9   dti             6103 non-null   float64\n",
      " 10  orig_upb        6104 non-null   int64  \n",
      " 11  ltv             6103 non-null   float64\n",
      " 12  int_rt          6104 non-null   float64\n",
      " 13  channel         6104 non-null   object \n",
      " 14  ppmt_pnlty      6066 non-null   object \n",
      " 15  prod_type       6104 non-null   object \n",
      " 16  st              6104 non-null   object \n",
      " 17  prop_type       6104 non-null   object \n",
      " 18  zipcode         6104 non-null   int64  \n",
      " 19  id_loan         6104 non-null   object \n",
      " 20  loan_purpose    6104 non-null   object \n",
      " 21  orig_loan_term  6104 non-null   int64  \n",
      " 22  cnt_borr        6104 non-null   int64  \n",
      " 23  seller_name     6104 non-null   object \n",
      " 24  servicer_name   6104 non-null   object \n",
      " 25  flag_sc         6104 non-null   object \n",
      " 26  prepaid         6104 non-null   int64  \n",
      " 27  default         6104 non-null   int64  \n",
      "dtypes: float64(6), int64(10), object(12)\n",
      "memory usage: 1.3+ MB\n"
     ]
    }
   ],
   "source": [
    "d.info()"
   ]
  },
  {
   "cell_type": "code",
   "execution_count": 110,
   "metadata": {},
   "outputs": [
    {
     "data": {
      "text/plain": [
       "fico              6103\n",
       "dt_first_pi       6104\n",
       "flag_fthb         2636\n",
       "dt_matr           6104\n",
       "cd_msa            5510\n",
       "mi_pct            6104\n",
       "cnt_units         6104\n",
       "occpy_sts         6104\n",
       "cltv              6103\n",
       "dti               6103\n",
       "orig_upb          6104\n",
       "ltv               6103\n",
       "int_rt            6104\n",
       "channel           6104\n",
       "ppmt_pnlty        6066\n",
       "prod_type         6104\n",
       "st                6104\n",
       "prop_type         6104\n",
       "zipcode           6104\n",
       "id_loan           6104\n",
       "loan_purpose      6104\n",
       "orig_loan_term    6104\n",
       "cnt_borr          6104\n",
       "seller_name       6104\n",
       "servicer_name     6104\n",
       "flag_sc           6104\n",
       "prepaid           6104\n",
       "default           6104\n",
       "dtype: int64"
      ]
     },
     "execution_count": 110,
     "metadata": {},
     "output_type": "execute_result"
    }
   ],
   "source": [
    "d.count()"
   ]
  },
  {
   "cell_type": "code",
   "execution_count": 111,
   "metadata": {},
   "outputs": [
    {
     "data": {
      "text/plain": [
       "fico              float64\n",
       "dt_first_pi         int64\n",
       "flag_fthb          object\n",
       "dt_matr             int64\n",
       "cd_msa            float64\n",
       "mi_pct              int64\n",
       "cnt_units           int64\n",
       "occpy_sts          object\n",
       "cltv              float64\n",
       "dti               float64\n",
       "orig_upb            int64\n",
       "ltv               float64\n",
       "int_rt            float64\n",
       "channel            object\n",
       "ppmt_pnlty         object\n",
       "prod_type          object\n",
       "st                 object\n",
       "prop_type          object\n",
       "zipcode             int64\n",
       "id_loan            object\n",
       "loan_purpose       object\n",
       "orig_loan_term      int64\n",
       "cnt_borr            int64\n",
       "seller_name        object\n",
       "servicer_name      object\n",
       "flag_sc            object\n",
       "prepaid             int64\n",
       "default             int64\n",
       "dtype: object"
      ]
     },
     "execution_count": 111,
     "metadata": {},
     "output_type": "execute_result"
    }
   ],
   "source": [
    "d.dtypes"
   ]
  },
  {
   "cell_type": "markdown",
   "metadata": {},
   "source": [
    "The `freddiemac.csv` dataset contains 28 features for a total of 6104 observations. 13 of the features are of type 'int64', 3 of type 'float64' and 12 of type 'object'. Furthermore, we observe that flag_fthb has the lowest non-null count (2636), which means it is the feature with the most NAs. This is a good argument to drop this variable, as the next lowest non-null count is 5510 for cd_msa. However, most of the features have a 6104 non-null count (21 of them) and several have a 6103 non-null count."
   ]
  },
  {
   "cell_type": "code",
   "execution_count": 112,
   "metadata": {},
   "outputs": [
    {
     "data": {
      "text/html": [
       "<div>\n",
       "<style scoped>\n",
       "    .dataframe tbody tr th:only-of-type {\n",
       "        vertical-align: middle;\n",
       "    }\n",
       "\n",
       "    .dataframe tbody tr th {\n",
       "        vertical-align: top;\n",
       "    }\n",
       "\n",
       "    .dataframe thead th {\n",
       "        text-align: right;\n",
       "    }\n",
       "</style>\n",
       "<table border=\"1\" class=\"dataframe\">\n",
       "  <thead>\n",
       "    <tr style=\"text-align: right;\">\n",
       "      <th></th>\n",
       "      <th>fico</th>\n",
       "      <th>dt_first_pi</th>\n",
       "      <th>dt_matr</th>\n",
       "      <th>cd_msa</th>\n",
       "      <th>mi_pct</th>\n",
       "      <th>cnt_units</th>\n",
       "      <th>cltv</th>\n",
       "      <th>dti</th>\n",
       "      <th>orig_upb</th>\n",
       "      <th>ltv</th>\n",
       "      <th>int_rt</th>\n",
       "      <th>zipcode</th>\n",
       "      <th>orig_loan_term</th>\n",
       "      <th>cnt_borr</th>\n",
       "      <th>prepaid</th>\n",
       "      <th>default</th>\n",
       "    </tr>\n",
       "  </thead>\n",
       "  <tbody>\n",
       "    <tr>\n",
       "      <th>count</th>\n",
       "      <td>6103.000000</td>\n",
       "      <td>6104.000000</td>\n",
       "      <td>6104.000000</td>\n",
       "      <td>5510.000000</td>\n",
       "      <td>6104.000000</td>\n",
       "      <td>6104.000000</td>\n",
       "      <td>6103.000000</td>\n",
       "      <td>6103.000000</td>\n",
       "      <td>6104.000000</td>\n",
       "      <td>6103.000000</td>\n",
       "      <td>6104.000000</td>\n",
       "      <td>6104.000000</td>\n",
       "      <td>6104.000000</td>\n",
       "      <td>6104.000000</td>\n",
       "      <td>6104.000000</td>\n",
       "      <td>6104.000000</td>\n",
       "    </tr>\n",
       "    <tr>\n",
       "      <th>mean</th>\n",
       "      <td>744.762740</td>\n",
       "      <td>201735.558650</td>\n",
       "      <td>204456.275885</td>\n",
       "      <td>30746.564428</td>\n",
       "      <td>5.027031</td>\n",
       "      <td>1.030799</td>\n",
       "      <td>72.350975</td>\n",
       "      <td>35.806816</td>\n",
       "      <td>244066.186107</td>\n",
       "      <td>71.894642</td>\n",
       "      <td>4.386463</td>\n",
       "      <td>61015.612713</td>\n",
       "      <td>327.018676</td>\n",
       "      <td>1.482634</td>\n",
       "      <td>0.981488</td>\n",
       "      <td>0.018512</td>\n",
       "    </tr>\n",
       "    <tr>\n",
       "      <th>std</th>\n",
       "      <td>48.208044</td>\n",
       "      <td>44.837849</td>\n",
       "      <td>573.354730</td>\n",
       "      <td>11158.605589</td>\n",
       "      <td>10.526750</td>\n",
       "      <td>0.246957</td>\n",
       "      <td>17.098363</td>\n",
       "      <td>9.533113</td>\n",
       "      <td>131445.871930</td>\n",
       "      <td>17.096422</td>\n",
       "      <td>0.508065</td>\n",
       "      <td>29401.664859</td>\n",
       "      <td>68.374234</td>\n",
       "      <td>0.499739</td>\n",
       "      <td>0.134806</td>\n",
       "      <td>0.134806</td>\n",
       "    </tr>\n",
       "    <tr>\n",
       "      <th>min</th>\n",
       "      <td>549.000000</td>\n",
       "      <td>201702.000000</td>\n",
       "      <td>202504.000000</td>\n",
       "      <td>10180.000000</td>\n",
       "      <td>0.000000</td>\n",
       "      <td>1.000000</td>\n",
       "      <td>7.000000</td>\n",
       "      <td>3.000000</td>\n",
       "      <td>22000.000000</td>\n",
       "      <td>7.000000</td>\n",
       "      <td>2.625000</td>\n",
       "      <td>800.000000</td>\n",
       "      <td>96.000000</td>\n",
       "      <td>1.000000</td>\n",
       "      <td>0.000000</td>\n",
       "      <td>0.000000</td>\n",
       "    </tr>\n",
       "    <tr>\n",
       "      <th>25%</th>\n",
       "      <td>708.000000</td>\n",
       "      <td>201705.000000</td>\n",
       "      <td>204702.000000</td>\n",
       "      <td>19740.000000</td>\n",
       "      <td>0.000000</td>\n",
       "      <td>1.000000</td>\n",
       "      <td>65.000000</td>\n",
       "      <td>29.000000</td>\n",
       "      <td>143000.000000</td>\n",
       "      <td>64.000000</td>\n",
       "      <td>4.125000</td>\n",
       "      <td>33900.000000</td>\n",
       "      <td>360.000000</td>\n",
       "      <td>1.000000</td>\n",
       "      <td>1.000000</td>\n",
       "      <td>0.000000</td>\n",
       "    </tr>\n",
       "    <tr>\n",
       "      <th>50%</th>\n",
       "      <td>753.000000</td>\n",
       "      <td>201709.000000</td>\n",
       "      <td>204706.000000</td>\n",
       "      <td>33340.000000</td>\n",
       "      <td>0.000000</td>\n",
       "      <td>1.000000</td>\n",
       "      <td>77.000000</td>\n",
       "      <td>38.000000</td>\n",
       "      <td>218000.000000</td>\n",
       "      <td>75.000000</td>\n",
       "      <td>4.375000</td>\n",
       "      <td>65000.000000</td>\n",
       "      <td>360.000000</td>\n",
       "      <td>1.000000</td>\n",
       "      <td>1.000000</td>\n",
       "      <td>0.000000</td>\n",
       "    </tr>\n",
       "    <tr>\n",
       "      <th>75%</th>\n",
       "      <td>786.000000</td>\n",
       "      <td>201802.000000</td>\n",
       "      <td>204711.000000</td>\n",
       "      <td>40140.000000</td>\n",
       "      <td>0.000000</td>\n",
       "      <td>1.000000</td>\n",
       "      <td>80.000000</td>\n",
       "      <td>43.000000</td>\n",
       "      <td>328000.000000</td>\n",
       "      <td>80.000000</td>\n",
       "      <td>4.750000</td>\n",
       "      <td>89800.000000</td>\n",
       "      <td>360.000000</td>\n",
       "      <td>2.000000</td>\n",
       "      <td>1.000000</td>\n",
       "      <td>0.000000</td>\n",
       "    </tr>\n",
       "    <tr>\n",
       "      <th>max</th>\n",
       "      <td>832.000000</td>\n",
       "      <td>201901.000000</td>\n",
       "      <td>204812.000000</td>\n",
       "      <td>49740.000000</td>\n",
       "      <td>35.000000</td>\n",
       "      <td>4.000000</td>\n",
       "      <td>97.000000</td>\n",
       "      <td>50.000000</td>\n",
       "      <td>795000.000000</td>\n",
       "      <td>97.000000</td>\n",
       "      <td>6.125000</td>\n",
       "      <td>99900.000000</td>\n",
       "      <td>360.000000</td>\n",
       "      <td>2.000000</td>\n",
       "      <td>1.000000</td>\n",
       "      <td>1.000000</td>\n",
       "    </tr>\n",
       "  </tbody>\n",
       "</table>\n",
       "</div>"
      ],
      "text/plain": [
       "              fico    dt_first_pi        dt_matr        cd_msa       mi_pct  \\\n",
       "count  6103.000000    6104.000000    6104.000000   5510.000000  6104.000000   \n",
       "mean    744.762740  201735.558650  204456.275885  30746.564428     5.027031   \n",
       "std      48.208044      44.837849     573.354730  11158.605589    10.526750   \n",
       "min     549.000000  201702.000000  202504.000000  10180.000000     0.000000   \n",
       "25%     708.000000  201705.000000  204702.000000  19740.000000     0.000000   \n",
       "50%     753.000000  201709.000000  204706.000000  33340.000000     0.000000   \n",
       "75%     786.000000  201802.000000  204711.000000  40140.000000     0.000000   \n",
       "max     832.000000  201901.000000  204812.000000  49740.000000    35.000000   \n",
       "\n",
       "         cnt_units         cltv          dti       orig_upb          ltv  \\\n",
       "count  6104.000000  6103.000000  6103.000000    6104.000000  6103.000000   \n",
       "mean      1.030799    72.350975    35.806816  244066.186107    71.894642   \n",
       "std       0.246957    17.098363     9.533113  131445.871930    17.096422   \n",
       "min       1.000000     7.000000     3.000000   22000.000000     7.000000   \n",
       "25%       1.000000    65.000000    29.000000  143000.000000    64.000000   \n",
       "50%       1.000000    77.000000    38.000000  218000.000000    75.000000   \n",
       "75%       1.000000    80.000000    43.000000  328000.000000    80.000000   \n",
       "max       4.000000    97.000000    50.000000  795000.000000    97.000000   \n",
       "\n",
       "            int_rt       zipcode  orig_loan_term     cnt_borr      prepaid  \\\n",
       "count  6104.000000   6104.000000     6104.000000  6104.000000  6104.000000   \n",
       "mean      4.386463  61015.612713      327.018676     1.482634     0.981488   \n",
       "std       0.508065  29401.664859       68.374234     0.499739     0.134806   \n",
       "min       2.625000    800.000000       96.000000     1.000000     0.000000   \n",
       "25%       4.125000  33900.000000      360.000000     1.000000     1.000000   \n",
       "50%       4.375000  65000.000000      360.000000     1.000000     1.000000   \n",
       "75%       4.750000  89800.000000      360.000000     2.000000     1.000000   \n",
       "max       6.125000  99900.000000      360.000000     2.000000     1.000000   \n",
       "\n",
       "           default  \n",
       "count  6104.000000  \n",
       "mean      0.018512  \n",
       "std       0.134806  \n",
       "min       0.000000  \n",
       "25%       0.000000  \n",
       "50%       0.000000  \n",
       "75%       0.000000  \n",
       "max       1.000000  "
      ]
     },
     "execution_count": 112,
     "metadata": {},
     "output_type": "execute_result"
    }
   ],
   "source": [
    "d.describe()"
   ]
  },
  {
   "cell_type": "markdown",
   "metadata": {},
   "source": [
    "We used the \"describe\" function to get informations about the range of the numerical features (doesn't give information about the 'objects'). This gives interesting informations for some of them. For example, we see that the average fico (credit score) of the consumers is around 745 and the maximum is 832. We can also see that the dates of the first scheduled mortgage payment are set between February 2017 and January 2019 and the month in which the final monthly payment on the mortgage are set between April 2025 and December 2048 (even if we know that the loans are already either repaid or defaulted). It is also interesting to see that our target, the default, has a mean of 1.85%. Because it is a binary variable, this means that our dataset is quite imbalanced, as only 1.85% of the cases are defaults."
   ]
  },
  {
   "cell_type": "code",
   "execution_count": 113,
   "metadata": {},
   "outputs": [
    {
     "data": {
      "image/png": "[encoded data removed]",
      "text/plain": [
       "<Figure size 640x400 with 2 Axes>"
      ]
     },
     "metadata": {},
     "output_type": "display_data"
    }
   ],
   "source": [
    "ax = plt.axes()\n",
    "sns.heatmap(d.corr(numeric_only=True), ax = ax)\n",
    "\n",
    "ax.set_title('Correlation Heatmap')\n",
    "plt.show()"
   ]
  },
  {
   "cell_type": "markdown",
   "metadata": {},
   "source": [
    "We can see, above, a correlation heatmap for every numerical feature in the dataset. We observe three really high correlations (1 or -1) between some of the variables that need to be looked at. First of all, we see that Prepaid and Default are fully correlated. This is normal, as we only have early loans and therefore, the consumers that have not defaulted prepaid their loans and vice versa. Secondly, another obvious relation is the Maturity Date and the originial loan term as the latest is considered as the number of scheduled monthly payments of the mortgage based on the First Payment Date and Maturity Date. Finally, there is an evident correlation between the Loan To Value and the Combined Loan To Value.\n",
    "We also observe a quite important negative relation between Default and Fico. Indeed, this makes sense as consumers that have a high credit score are less likely to default. "
   ]
  },
  {
   "cell_type": "code",
   "execution_count": 119,
   "metadata": {},
   "outputs": [
    {
     "data": {
      "text/plain": [
       "<seaborn.axisgrid.PairGrid at 0x2738e10ed20>"
      ]
     },
     "execution_count": 119,
     "metadata": {},
     "output_type": "execute_result"
    },
    {
     "data": {
      "image/png": "[encoded data removed]",
      "text/plain": [
       "<Figure size 400x400 with 6 Axes>"
      ]
     },
     "metadata": {},
     "output_type": "display_data"
    }
   ],
   "source": [
    "sns.pairplot(d[[\"cltv\",\"ltv\"]])"
   ]
  },
  {
   "cell_type": "code",
   "execution_count": 120,
   "metadata": {},
   "outputs": [
    {
     "data": {
      "text/plain": [
       "<Axes: xlabel='default', ylabel='fico'>"
      ]
     },
     "execution_count": 120,
     "metadata": {},
     "output_type": "execute_result"
    },
    {
     "data": {
      "image/png": "[encoded data removed]",
      "text/plain": [
       "<Figure size 640x400 with 1 Axes>"
      ]
     },
     "metadata": {},
     "output_type": "display_data"
    }
   ],
   "source": [
    "sns.boxplot(d, x = \"default\", y = \"fico\")"
   ]
  },
  {
   "cell_type": "markdown",
   "metadata": {},
   "source": [
    "Above, we can observe three graphics that represent the relationships that we discovered on the heatmap. The correlation between default and fico is as important as we thought it was. "
   ]
  },
  {
   "cell_type": "code",
   "execution_count": 98,
   "metadata": {},
   "outputs": [],
   "source": [
    "d[\"year_first_pi\"] = [int(str(i)[0:4]) for i in d[\"dt_first_pi\"]]\n",
    "d[\"month_first_pi\"] = [int(str(i)[4:]) for i in d[\"dt_first_pi\"]]\n",
    "\n",
    "d[\"year_matr\"] = [int(str(i)[0:4]) for i in d[\"dt_matr\"]]\n",
    "d[\"month_matr\"] = [int(str(i)[4:]) for i in d[\"dt_matr\"]]"
   ]
  },
  {
   "cell_type": "markdown",
   "metadata": {},
   "source": [
    "We decided to encode the dates of first payment and maturity dates differently. Indeed, instead of having only one column of the form YYYYMM, we seperate the dates into two columns : one with the year of the form YYYY and one with the month of the form MM. We thought that it might be easier to interpret this way."
   ]
  },
  {
   "cell_type": "code",
   "execution_count": 142,
   "metadata": {},
   "outputs": [
    {
     "data": {
      "text/plain": [
       "array(['N', nan], dtype=object)"
      ]
     },
     "execution_count": 142,
     "metadata": {},
     "output_type": "execute_result"
    }
   ],
   "source": [
    "d.ppmt_pnlty.unique()"
   ]
  },
  {
   "cell_type": "code",
   "execution_count": 141,
   "metadata": {},
   "outputs": [
    {
     "data": {
      "text/plain": [
       "array(['FRM'], dtype=object)"
      ]
     },
     "execution_count": 141,
     "metadata": {},
     "output_type": "execute_result"
    }
   ],
   "source": [
    "d.prod_type.unique()"
   ]
  },
  {
   "cell_type": "markdown",
   "metadata": {},
   "source": [
    "We also observed that the variables 'ppmt_pnlty' and 'prod_type' only take one type of attribute. Therefore, we think that these variables, as well as the ones that we previously mentioned should be dropped."
   ]
  },
  {
   "cell_type": "code",
   "execution_count": 101,
   "metadata": {},
   "outputs": [],
   "source": [
    "df_clean = d.drop(columns=['ppmt_pnlty', 'prod_type', 'prepaid', 'dt_first_pi', 'dt_matr', 'flag_fthb', 'id_loan', 'zipcode'], axis=1)"
   ]
  },
  {
   "cell_type": "markdown",
   "metadata": {},
   "source": [
    "We dropped the unwanted variables previously discussed and stored the wanted data into a new data frame. Furthermore, we also drop the variable 'id_loan' which is just and identifier as it is only present to identify the subject, and the variable 'zipcode' as we already have multiple and better geographical variables in our data set."
   ]
  },
  {
   "cell_type": "code",
   "execution_count": 102,
   "metadata": {},
   "outputs": [
    {
     "data": {
      "text/html": [
       "<div>\n",
       "<style scoped>\n",
       "    .dataframe tbody tr th:only-of-type {\n",
       "        vertical-align: middle;\n",
       "    }\n",
       "\n",
       "    .dataframe tbody tr th {\n",
       "        vertical-align: top;\n",
       "    }\n",
       "\n",
       "    .dataframe thead th {\n",
       "        text-align: right;\n",
       "    }\n",
       "</style>\n",
       "<table border=\"1\" class=\"dataframe\">\n",
       "  <thead>\n",
       "    <tr style=\"text-align: right;\">\n",
       "      <th></th>\n",
       "      <th>fico</th>\n",
       "      <th>cd_msa</th>\n",
       "      <th>mi_pct</th>\n",
       "      <th>cnt_units</th>\n",
       "      <th>occpy_sts</th>\n",
       "      <th>cltv</th>\n",
       "      <th>dti</th>\n",
       "      <th>orig_upb</th>\n",
       "      <th>ltv</th>\n",
       "      <th>int_rt</th>\n",
       "      <th>...</th>\n",
       "      <th>orig_loan_term</th>\n",
       "      <th>cnt_borr</th>\n",
       "      <th>seller_name</th>\n",
       "      <th>servicer_name</th>\n",
       "      <th>flag_sc</th>\n",
       "      <th>default</th>\n",
       "      <th>year_first_pi</th>\n",
       "      <th>month_first_pi</th>\n",
       "      <th>year_matr</th>\n",
       "      <th>month_matr</th>\n",
       "    </tr>\n",
       "  </thead>\n",
       "  <tbody>\n",
       "    <tr>\n",
       "      <th>1</th>\n",
       "      <td>649.0</td>\n",
       "      <td>33124.0</td>\n",
       "      <td>0</td>\n",
       "      <td>1</td>\n",
       "      <td>P</td>\n",
       "      <td>52.0</td>\n",
       "      <td>22.0</td>\n",
       "      <td>190000</td>\n",
       "      <td>52.0</td>\n",
       "      <td>2.875</td>\n",
       "      <td>...</td>\n",
       "      <td>180</td>\n",
       "      <td>2</td>\n",
       "      <td>Other sellers</td>\n",
       "      <td>Other servicers</td>\n",
       "      <td>N</td>\n",
       "      <td>0</td>\n",
       "      <td>2017</td>\n",
       "      <td>3</td>\n",
       "      <td>2032</td>\n",
       "      <td>2</td>\n",
       "    </tr>\n",
       "    <tr>\n",
       "      <th>2</th>\n",
       "      <td>747.0</td>\n",
       "      <td>41180.0</td>\n",
       "      <td>0</td>\n",
       "      <td>1</td>\n",
       "      <td>I</td>\n",
       "      <td>43.0</td>\n",
       "      <td>20.0</td>\n",
       "      <td>61000</td>\n",
       "      <td>43.0</td>\n",
       "      <td>4.000</td>\n",
       "      <td>...</td>\n",
       "      <td>240</td>\n",
       "      <td>2</td>\n",
       "      <td>Other sellers</td>\n",
       "      <td>Other servicers</td>\n",
       "      <td>N</td>\n",
       "      <td>0</td>\n",
       "      <td>2017</td>\n",
       "      <td>3</td>\n",
       "      <td>2037</td>\n",
       "      <td>2</td>\n",
       "    </tr>\n",
       "    <tr>\n",
       "      <th>3</th>\n",
       "      <td>711.0</td>\n",
       "      <td>20260.0</td>\n",
       "      <td>0</td>\n",
       "      <td>1</td>\n",
       "      <td>I</td>\n",
       "      <td>80.0</td>\n",
       "      <td>21.0</td>\n",
       "      <td>90000</td>\n",
       "      <td>80.0</td>\n",
       "      <td>4.625</td>\n",
       "      <td>...</td>\n",
       "      <td>360</td>\n",
       "      <td>2</td>\n",
       "      <td>Other sellers</td>\n",
       "      <td>Other servicers</td>\n",
       "      <td>N</td>\n",
       "      <td>0</td>\n",
       "      <td>2017</td>\n",
       "      <td>3</td>\n",
       "      <td>2047</td>\n",
       "      <td>2</td>\n",
       "    </tr>\n",
       "    <tr>\n",
       "      <th>7</th>\n",
       "      <td>714.0</td>\n",
       "      <td>19804.0</td>\n",
       "      <td>0</td>\n",
       "      <td>1</td>\n",
       "      <td>I</td>\n",
       "      <td>80.0</td>\n",
       "      <td>22.0</td>\n",
       "      <td>224000</td>\n",
       "      <td>80.0</td>\n",
       "      <td>5.125</td>\n",
       "      <td>...</td>\n",
       "      <td>360</td>\n",
       "      <td>2</td>\n",
       "      <td>Other sellers</td>\n",
       "      <td>Other servicers</td>\n",
       "      <td>N</td>\n",
       "      <td>0</td>\n",
       "      <td>2017</td>\n",
       "      <td>3</td>\n",
       "      <td>2047</td>\n",
       "      <td>2</td>\n",
       "    </tr>\n",
       "    <tr>\n",
       "      <th>11</th>\n",
       "      <td>710.0</td>\n",
       "      <td>19660.0</td>\n",
       "      <td>0</td>\n",
       "      <td>1</td>\n",
       "      <td>P</td>\n",
       "      <td>78.0</td>\n",
       "      <td>39.0</td>\n",
       "      <td>295000</td>\n",
       "      <td>78.0</td>\n",
       "      <td>4.625</td>\n",
       "      <td>...</td>\n",
       "      <td>360</td>\n",
       "      <td>2</td>\n",
       "      <td>Other sellers</td>\n",
       "      <td>NATIONSTARMTGELLCDBA</td>\n",
       "      <td>N</td>\n",
       "      <td>0</td>\n",
       "      <td>2017</td>\n",
       "      <td>3</td>\n",
       "      <td>2047</td>\n",
       "      <td>2</td>\n",
       "    </tr>\n",
       "    <tr>\n",
       "      <th>...</th>\n",
       "      <td>...</td>\n",
       "      <td>...</td>\n",
       "      <td>...</td>\n",
       "      <td>...</td>\n",
       "      <td>...</td>\n",
       "      <td>...</td>\n",
       "      <td>...</td>\n",
       "      <td>...</td>\n",
       "      <td>...</td>\n",
       "      <td>...</td>\n",
       "      <td>...</td>\n",
       "      <td>...</td>\n",
       "      <td>...</td>\n",
       "      <td>...</td>\n",
       "      <td>...</td>\n",
       "      <td>...</td>\n",
       "      <td>...</td>\n",
       "      <td>...</td>\n",
       "      <td>...</td>\n",
       "      <td>...</td>\n",
       "      <td>...</td>\n",
       "    </tr>\n",
       "    <tr>\n",
       "      <th>6098</th>\n",
       "      <td>812.0</td>\n",
       "      <td>40140.0</td>\n",
       "      <td>0</td>\n",
       "      <td>1</td>\n",
       "      <td>P</td>\n",
       "      <td>78.0</td>\n",
       "      <td>26.0</td>\n",
       "      <td>427000</td>\n",
       "      <td>78.0</td>\n",
       "      <td>4.625</td>\n",
       "      <td>...</td>\n",
       "      <td>360</td>\n",
       "      <td>1</td>\n",
       "      <td>WELLSFARGOBANK,NA</td>\n",
       "      <td>WELLSFARGOBANK,NA</td>\n",
       "      <td>N</td>\n",
       "      <td>0</td>\n",
       "      <td>2018</td>\n",
       "      <td>11</td>\n",
       "      <td>2048</td>\n",
       "      <td>10</td>\n",
       "    </tr>\n",
       "    <tr>\n",
       "      <th>6099</th>\n",
       "      <td>725.0</td>\n",
       "      <td>41500.0</td>\n",
       "      <td>0</td>\n",
       "      <td>1</td>\n",
       "      <td>P</td>\n",
       "      <td>59.0</td>\n",
       "      <td>40.0</td>\n",
       "      <td>160000</td>\n",
       "      <td>59.0</td>\n",
       "      <td>5.000</td>\n",
       "      <td>...</td>\n",
       "      <td>360</td>\n",
       "      <td>2</td>\n",
       "      <td>WELLSFARGOBANK,NA</td>\n",
       "      <td>WELLSFARGOBANK,NA</td>\n",
       "      <td>N</td>\n",
       "      <td>0</td>\n",
       "      <td>2018</td>\n",
       "      <td>11</td>\n",
       "      <td>2048</td>\n",
       "      <td>10</td>\n",
       "    </tr>\n",
       "    <tr>\n",
       "      <th>6100</th>\n",
       "      <td>768.0</td>\n",
       "      <td>31084.0</td>\n",
       "      <td>0</td>\n",
       "      <td>1</td>\n",
       "      <td>P</td>\n",
       "      <td>79.0</td>\n",
       "      <td>46.0</td>\n",
       "      <td>500000</td>\n",
       "      <td>79.0</td>\n",
       "      <td>5.000</td>\n",
       "      <td>...</td>\n",
       "      <td>360</td>\n",
       "      <td>2</td>\n",
       "      <td>STEARNSLENDING,LLC</td>\n",
       "      <td>Other servicers</td>\n",
       "      <td>Y</td>\n",
       "      <td>0</td>\n",
       "      <td>2018</td>\n",
       "      <td>9</td>\n",
       "      <td>2048</td>\n",
       "      <td>8</td>\n",
       "    </tr>\n",
       "    <tr>\n",
       "      <th>6101</th>\n",
       "      <td>752.0</td>\n",
       "      <td>39900.0</td>\n",
       "      <td>0</td>\n",
       "      <td>1</td>\n",
       "      <td>I</td>\n",
       "      <td>80.0</td>\n",
       "      <td>12.0</td>\n",
       "      <td>213000</td>\n",
       "      <td>80.0</td>\n",
       "      <td>4.875</td>\n",
       "      <td>...</td>\n",
       "      <td>180</td>\n",
       "      <td>2</td>\n",
       "      <td>Other sellers</td>\n",
       "      <td>Other servicers</td>\n",
       "      <td>N</td>\n",
       "      <td>0</td>\n",
       "      <td>2018</td>\n",
       "      <td>11</td>\n",
       "      <td>2033</td>\n",
       "      <td>10</td>\n",
       "    </tr>\n",
       "    <tr>\n",
       "      <th>6102</th>\n",
       "      <td>777.0</td>\n",
       "      <td>31084.0</td>\n",
       "      <td>0</td>\n",
       "      <td>1</td>\n",
       "      <td>P</td>\n",
       "      <td>80.0</td>\n",
       "      <td>48.0</td>\n",
       "      <td>238000</td>\n",
       "      <td>80.0</td>\n",
       "      <td>5.125</td>\n",
       "      <td>...</td>\n",
       "      <td>360</td>\n",
       "      <td>1</td>\n",
       "      <td>AMERIHOMEMTGECOMPANY</td>\n",
       "      <td>AMERIHOMEMTGECOMPANY</td>\n",
       "      <td>N</td>\n",
       "      <td>0</td>\n",
       "      <td>2018</td>\n",
       "      <td>11</td>\n",
       "      <td>2048</td>\n",
       "      <td>10</td>\n",
       "    </tr>\n",
       "  </tbody>\n",
       "</table>\n",
       "<p>5507 rows × 24 columns</p>\n",
       "</div>"
      ],
      "text/plain": [
       "       fico   cd_msa  mi_pct  cnt_units occpy_sts  cltv   dti  orig_upb   ltv  \\\n",
       "1     649.0  33124.0       0          1         P  52.0  22.0    190000  52.0   \n",
       "2     747.0  41180.0       0          1         I  43.0  20.0     61000  43.0   \n",
       "3     711.0  20260.0       0          1         I  80.0  21.0     90000  80.0   \n",
       "7     714.0  19804.0       0          1         I  80.0  22.0    224000  80.0   \n",
       "11    710.0  19660.0       0          1         P  78.0  39.0    295000  78.0   \n",
       "...     ...      ...     ...        ...       ...   ...   ...       ...   ...   \n",
       "6098  812.0  40140.0       0          1         P  78.0  26.0    427000  78.0   \n",
       "6099  725.0  41500.0       0          1         P  59.0  40.0    160000  59.0   \n",
       "6100  768.0  31084.0       0          1         P  79.0  46.0    500000  79.0   \n",
       "6101  752.0  39900.0       0          1         I  80.0  12.0    213000  80.0   \n",
       "6102  777.0  31084.0       0          1         P  80.0  48.0    238000  80.0   \n",
       "\n",
       "      int_rt  ... orig_loan_term cnt_borr           seller_name  \\\n",
       "1      2.875  ...            180        2         Other sellers   \n",
       "2      4.000  ...            240        2         Other sellers   \n",
       "3      4.625  ...            360        2         Other sellers   \n",
       "7      5.125  ...            360        2         Other sellers   \n",
       "11     4.625  ...            360        2         Other sellers   \n",
       "...      ...  ...            ...      ...                   ...   \n",
       "6098   4.625  ...            360        1     WELLSFARGOBANK,NA   \n",
       "6099   5.000  ...            360        2     WELLSFARGOBANK,NA   \n",
       "6100   5.000  ...            360        2    STEARNSLENDING,LLC   \n",
       "6101   4.875  ...            180        2         Other sellers   \n",
       "6102   5.125  ...            360        1  AMERIHOMEMTGECOMPANY   \n",
       "\n",
       "             servicer_name  flag_sc  default year_first_pi month_first_pi  \\\n",
       "1          Other servicers        N        0          2017              3   \n",
       "2          Other servicers        N        0          2017              3   \n",
       "3          Other servicers        N        0          2017              3   \n",
       "7          Other servicers        N        0          2017              3   \n",
       "11    NATIONSTARMTGELLCDBA        N        0          2017              3   \n",
       "...                    ...      ...      ...           ...            ...   \n",
       "6098     WELLSFARGOBANK,NA        N        0          2018             11   \n",
       "6099     WELLSFARGOBANK,NA        N        0          2018             11   \n",
       "6100       Other servicers        Y        0          2018              9   \n",
       "6101       Other servicers        N        0          2018             11   \n",
       "6102  AMERIHOMEMTGECOMPANY        N        0          2018             11   \n",
       "\n",
       "     year_matr  month_matr  \n",
       "1         2032           2  \n",
       "2         2037           2  \n",
       "3         2047           2  \n",
       "7         2047           2  \n",
       "11        2047           2  \n",
       "...        ...         ...  \n",
       "6098      2048          10  \n",
       "6099      2048          10  \n",
       "6100      2048           8  \n",
       "6101      2033          10  \n",
       "6102      2048          10  \n",
       "\n",
       "[5507 rows x 24 columns]"
      ]
     },
     "execution_count": 102,
     "metadata": {},
     "output_type": "execute_result"
    }
   ],
   "source": [
    "df_clean = df_clean[~df_clean.isnull().any(axis=1)]\n",
    "df_clean"
   ]
  },
  {
   "cell_type": "markdown",
   "metadata": {},
   "source": [
    "After removing the NAs, we are left with 5507 observations, which is still substantial, as we keep aproximatively 90% of the consumers data. We also need to make sure that the remaining observations also have a default rate similar at what we previously had, prior to handling the NAs. We are quite happy, as the defaults are aproximately 1.60% of the final data (compared to the 1.85% we previously had)."
   ]
  },
  {
   "cell_type": "code",
   "execution_count": 104,
   "metadata": {},
   "outputs": [
    {
     "data": {
      "text/plain": [
       "1.5979662248047939"
      ]
     },
     "execution_count": 104,
     "metadata": {},
     "output_type": "execute_result"
    }
   ],
   "source": [
    "100*df_clean.default.value_counts()[1]/(df_clean.default.value_counts()[0]+df_clean.default.value_counts()[1])"
   ]
  },
  {
   "cell_type": "markdown",
   "metadata": {},
   "source": [
    "Now that we have looked at variables related to the clients credit and the related mortgages, handled the missing values, dropped the unwanted variables and visualized several correlation, we focus in seeing, geographicaly, how the consumers are distributed over the United States."
   ]
  },
  {
   "cell_type": "code",
   "execution_count": null,
   "metadata": {},
   "outputs": [],
   "source": [
    "msa_shapes = gpd.read_file(\"msa.geojson\")\n",
    "\n",
    "msa_shapes[\"cbsafp\"] = msa_shapes[\"cbsafp\"].astype(\"int64\")\n",
    "\n",
    "msa_count = df_clean['cd_msa'].value_counts().reset_index()\n",
    "msa_count.columns = ['cbsafp', 'Count']\n",
    "\n",
    "msa_count[\"cbsafp\"] = msa_count[\"cbsafp\"].astype(\"int64\")\n",
    "\n",
    "msa_count.Count.sum()"
   ]
  },
  {
   "cell_type": "code",
   "execution_count": null,
   "metadata": {},
   "outputs": [],
   "source": [
    "#division codes to MSA codes (codes ending with 4 are division codes)\n",
    "#Sources\n",
    "#https://www.bls.gov/sae/additional-resources/metropolitan-and-necta-divisions-published-by-ces.htm\n",
    "#https://tbed.org/demo/index.php?tablename=cbsa&function=details&where_field=cbsa_code&where_value=14460\n",
    "#https://pcidownloads.com/crawiz/pcidownload/CRA%20Wiz/Performance%20Context/MSA/2024%20MSA%20Connecticut%20County%20Changes%20Guide.pdf\n",
    "#https://www2.census.gov/programs-surveys/metro-micro/geographies/reference-files/2018/delineation-files/list1_Sep_2018.xls\n",
    "msa_div_dict = {16980: [16974, 16984, 20994, 23844, 29404],\n",
    "                19100: [19124, 23104],\n",
    "                19820: [19804, 47664],\n",
    "                31080: [11244, 31084],\n",
    "                33100: [22744, 33124, 48424],\n",
    "                35620: [20524, 35004, 35084, 35614, 35154],\n",
    "                37980: [15804, 33874, 37964, 48864],\n",
    "                41860: [36084, 41884, 42034],\n",
    "                42660: [42644, 45104],\n",
    "                47900: [43524, 47894, 23224],\n",
    "                71650: [71654, 72104, 73104, 73604, 74204, 74804, 74854, 75404, 76524, 78254],\n",
    "                14460: [14454, 15764, 40484]}"
   ]
  },
  {
   "cell_type": "code",
   "execution_count": null,
   "metadata": {},
   "outputs": [],
   "source": [
    "#reverse keys with values\n",
    "div_msa_dict = {val: key for key, values in msa_div_dict.items() for val in values}\n",
    "\n",
    "#some codes were replaced with new ones, but the geoJSON we use does not recognize them, so we need to change them manually\n",
    "div_msa_dict[19430] = 19380\n",
    "div_msa_dict[39150] = 39140\n",
    "\n",
    "#https://www.ffiec.gov/census/htm/2015CensusInfoSheet.htm\n",
    "#19380 changed to 19430\n",
    "#39100 - new metropolitan area, not in the geoJSON file, luckily only 1 observation there\n",
    "#39140 changed to 39150\n",
    "\n",
    "new_df = {}\n",
    "\n",
    "for index, row in msa_count.iterrows():    \n",
    "    \n",
    "    #find replacing MSA code if exists, else return the curr_code\n",
    "    curr_code = row['cbsafp']\n",
    "    curr_code = div_msa_dict.get(curr_code, curr_code)\n",
    "    curr_value = row['Count']\n",
    "    \n",
    "    if curr_code in new_df:\n",
    "        new_df[curr_code] += curr_value\n",
    "    else:\n",
    "        new_df[curr_code] = curr_value"
   ]
  },
  {
   "cell_type": "code",
   "execution_count": null,
   "metadata": {},
   "outputs": [],
   "source": [
    "data_msa_count = {'cbsafp': list(new_df.keys()), 'Count': list(new_df.values())} \n",
    "msa_count = pd.DataFrame(data_msa_count)\n",
    "msa_shapes = msa_shapes.merge(msa_count, on='cbsafp', how='left')\n",
    "\n",
    "# Plot the map\n",
    "fig, ax = plt.subplots(1, 1, figsize=(10, 6))\n",
    "msa_shapes.plot(column='Count', linewidth=0.8, ax=ax, edgecolor='0.8', legend=True, cmap = \"Blues\")\n",
    "ax.set_title('Number of MSA Codes Assigned to Each Area')\n",
    "plt.show()"
   ]
  },
  {
   "cell_type": "markdown",
   "metadata": {},
   "source": [
    "As we observe on the map, the borrowers are from all 50 states (and DC). We can even see that some of them are also from Puerto Rico, and the Virgin Islands. The maximum seems to be obtained at the frontier between Arizona and California."
   ]
  },
  {
   "cell_type": "code",
   "execution_count": 127,
   "metadata": {},
   "outputs": [],
   "source": [
    "#split the data\n",
    "data_x, data_y = df_clean.drop(['default'], axis=1), df_clean['default']\n",
    "\n",
    "X_train, X_test, y_train, y_test = train_test_split(data_x, data_y, test_size = 0.2, random_state=42, stratify=data_y)"
   ]
  },
  {
   "cell_type": "markdown",
   "metadata": {},
   "source": [
    "Finally, we separate the covariates from the target variable and we split the data in to training and test datasets. We use stratifying because, as we have seen earlier, the data is highly imbalanced and we want to make sure that we get a correct number of default in each datasets."
   ]
  },
  {
   "cell_type": "code",
   "execution_count": 133,
   "metadata": {},
   "outputs": [],
   "source": [
    "#Oversample the train set, leave the test/valid sets as they are\n",
    "oversample = RandomOverSampler(sampling_strategy='minority')\n",
    "X_otrain, y_otrain = oversample.fit_resample(X_train, y_train)\n",
    "\n",
    "#Undersample the train set, leave the test/valid sets as they are\n",
    "undersample = RandomUnderSampler(sampling_strategy='majority')\n",
    "X_utrain, y_utrain = undersample.fit_resample(X_train, y_train)"
   ]
  },
  {
   "cell_type": "markdown",
   "metadata": {},
   "source": [
    "Since we have an imbalanced dataset, we want to use either oversample or undersample for the training the dataset without touching the test dataset."
   ]
  },
  {
   "cell_type": "markdown",
   "metadata": {},
   "source": [
    "To improve our model performance, we use One Hot Encoding on multiple variables related to the type of properties, lenders and loans but also the States in which the properties are located. Furthermore, we also need to take care of the the ordinal variable 'flag_sc' that flags whether or not the mortgages exceed conforming loan limits with origination dates on or after 10/1/2008 and were delivered to Freddie Mac on or after 1/1/2009. Our aim is to retain the ordinal information between categories. To do that, we simply use Ordinal Encoding."
   ]
  },
  {
   "cell_type": "code",
   "execution_count": 144,
   "metadata": {},
   "outputs": [],
   "source": [
    "preprocessor = ColumnTransformer(\n",
    "    transformers=[\n",
    "        ('cat', OneHotEncoder(handle_unknown='ignore'), [\"occpy_sts\",\"channel\",\"prop_type\",\"loan_purpose\",\"st\"]),\n",
    "        ('ord', OrdinalEncoder(),[\"flag_sc\"])\n",
    "    ],\n",
    "    remainder='passthrough'\n",
    ")"
   ]
  },
  {
   "cell_type": "code",
   "execution_count": 145,
   "metadata": {},
   "outputs": [],
   "source": [
    "scaler = StandardScaler()"
   ]
  },
  {
   "cell_type": "markdown",
   "metadata": {
    "cell_id": "853e4d50d5b94ee58f24a09b5822ac1c",
    "deepnote_cell_type": "markdown"
   },
   "source": [
    "# Model Fitting and Tuning\n",
    "\n",
    "*In this section you should detail your choice of model and describe the process used to refine and fit that model. You are strongly encouraged to explore many different modeling methods (e.g. linear regression, interaction terms, lasso, etc.) but you should not include a detailed narrative of all of these attempts. At most this section should mention the methods explored and why they were rejected - most of your effort should go into describing the model you are using and your process for tuning and validating it.*\n",
    "\n",
    "*For example if you considered a linear regression model, a polynomial regression, and a lasso model and ultimately settled on the linear regression approach then you should mention that other two approaches were tried but do not include any of the code or any in depth discussion of these models beyond why they were rejected. This section should then detail is the development of the linear regression model in terms of features used, interactions considered, and any additional tuning and validation which ultimately led to your final model.* \n",
    "\n",
    "*This section should also include the full implementation of your final model, including all necessary validation. As with figures, any included code must also be addressed in the text of the document.*\n",
    "\n",
    "*Finally, you should also provide comparison of your model with baseline model(s) on the test data but only briefly describe the baseline model(s) considered*"
   ]
  },
  {
   "cell_type": "markdown",
   "metadata": {
    "cell_id": "9253c78a6fa444f0a548664eda0fc678",
    "deepnote_cell_type": "markdown"
   },
   "source": [
    "# Discussion & Conclusions\n",
    "\n",
    "*In this section you should provide a general overview of your final model, its performance, and reliability. You should discuss what the implications of your model are in terms of the included features, predictive performance, and anything else you think is relevant.*\n",
    "\n",
    "*This should be written with a target audience of a government official or charity directy, who is understands the pressing challenges associated with ageining and dementia but may only have university level mathematics (not necessarily postgraduate statistics or machine learning). Your goal should be to highlight to this audience how your model can useful. You should also mention potential limitations of your model.*\n",
    "\n",
    "*Finally, you should include recommendations on potential lifestyle changes or governmental/societal interventions to reduce dementia risk.*\n",
    "\n",
    "*Keep in mind that a negative result, i.e. a model that does not work well predictively, that is well explained and justified in terms of why it failed will likely receive higher marks than a model with strong predictive performance but with poor or incorrect explinations / justifications.*"
   ]
  },
  {
   "cell_type": "markdown",
   "metadata": {
    "cell_id": "4f98e37a549e47b2b58c99b78c3f0496",
    "deepnote_cell_type": "markdown"
   },
   "source": [
    "# References\n",
    "\n",
    "*Include references if any*"
   ]
  },
  {
   "cell_type": "code",
   "execution_count": 146,
   "metadata": {
    "cell_id": "615724a3c1e54900913f27adb7d3c47e",
    "deepnote_cell_type": "code"
   },
   "outputs": [
    {
     "name": "stderr",
     "output_type": "stream",
     "text": [
      "usage: jupyter [-h] [--version] [--config-dir] [--data-dir] [--runtime-dir]\n",
      "               [--paths] [--json] [--debug]\n",
      "               [subcommand]\n",
      "\n",
      "Jupyter: Interactive Computing\n",
      "\n",
      "positional arguments:\n",
      "  subcommand     the subcommand to launch\n",
      "\n",
      "options:\n",
      "  -h, --help     show this help message and exit\n",
      "  --version      show the versions of core jupyter packages and exit\n",
      "  --config-dir   show Jupyter config dir\n",
      "  --data-dir     show Jupyter data dir\n",
      "  --runtime-dir  show Jupyter runtime dir\n",
      "  --paths        show all Jupyter paths. Add --json for machine-readable\n",
      "                 format.\n",
      "  --json         output paths as machine-readable json\n",
      "  --debug        output debug information about paths\n",
      "\n",
      "Available subcommands: kernel kernelspec migrate run troubleshoot\n",
      "\n",
      "Jupyter command `jupyter-nbconvert` not found.\n"
     ]
    }
   ],
   "source": [
    "# Run the following to render to PDF\n",
    "!jupyter nbconvert --to pdf project2MaxEDA.ipynb"
   ]
  },
  {
   "cell_type": "markdown",
   "metadata": {
    "created_in_deepnote_cell": true,
    "deepnote_cell_type": "markdown"
   },
   "source": [
    "<a style='text-decoration:none;line-height:16px;display:flex;color:#5B5B62;padding:10px;justify-content:end;' href='https://deepnote.com?utm_source=created-in-deepnote-cell&projectId=a2a9ec8d-a343-4210-b36b-f9db26268fc5' target=\"_blank\">\n",
    "<img alt='Created in deepnote.com' style='display:inline;max-height:16px;margin:0px;margin-right:7.5px;' src='data:image/svg+xml;base64,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' > </img>\n",
    "Created in <span style='font-weight:600;margin-left:4px;'>Deepnote</span></a>"
   ]
  }
 ],
 "metadata": {
  "deepnote_execution_queue": [],
  "deepnote_notebook_id": "d2f25b2b0abf4f65af08d733185ca9f1",
  "kernelspec": {
   "display_name": "Python 3 (ipykernel)",
   "language": "python",
   "name": "python3"
  },
  "language_info": {
   "codemirror_mode": {
    "name": "ipython",
    "version": 3
   },
   "file_extension": ".py",
   "mimetype": "text/x-python",
   "name": "python",
   "nbconvert_exporter": "python",
   "pygments_lexer": "ipython3",
   "version": "3.12.2"
  }
 },
 "nbformat": 4,
 "nbformat_minor": 1
}
