{
 "cells": [
  {
   "cell_type": "markdown",
   "metadata": {
    "cell_id": "a9c673f4b97f45d0975f547cb6070545",
    "deepnote_cell_type": "markdown"
   },
   "source": [
    "# Machine Learning in Python - Project 2\n",
    "\n",
    "Due Friday, April 12th by 4 pm.\n",
    "\n",
    "*Include contributors names in notebook metadata or here*"
   ]
  },
  {
   "cell_type": "markdown",
   "metadata": {
    "cell_id": "f6fb20cc81f34af892849ba423586298",
    "deepnote_cell_type": "markdown"
   },
   "source": [
    "## Setup\n",
    "\n",
    "*Install any packages here and load data*"
   ]
  },
  {
   "cell_type": "code",
   "execution_count": 270,
   "metadata": {},
   "outputs": [
    {
     "name": "stdout",
     "output_type": "stream",
     "text": [
      "Collecting imblearn\n",
      "  Using cached imblearn-0.0-py2.py3-none-any.whl (1.9 kB)\n",
      "Collecting imbalanced-learn\n",
      "  Downloading imbalanced_learn-0.12.2-py3-none-any.whl (257 kB)\n",
      "\u001b[2K     \u001b[90m━━━━━━━━━━━━━━━━━━━━━━━━━━━━━━━━━━━━━━━\u001b[0m \u001b[32m258.0/258.0 kB\u001b[0m \u001b[31m5.2 MB/s\u001b[0m eta \u001b[36m0:00:00\u001b[0ma \u001b[36m0:00:01\u001b[0m\n",
      "\u001b[?25hRequirement already satisfied: threadpoolctl>=2.0.0 in /opt/conda/lib/python3.9/site-packages (from imbalanced-learn->imblearn) (3.2.0)\n",
      "Requirement already satisfied: joblib>=1.1.1 in /opt/conda/lib/python3.9/site-packages (from imbalanced-learn->imblearn) (1.3.2)\n",
      "Requirement already satisfied: scikit-learn>=1.0.2 in /opt/conda/lib/python3.9/site-packages (from imbalanced-learn->imblearn) (1.3.0)\n",
      "Requirement already satisfied: scipy>=1.5.0 in /opt/conda/lib/python3.9/site-packages (from imbalanced-learn->imblearn) (1.11.2)\n",
      "Requirement already satisfied: numpy>=1.17.3 in /opt/conda/lib/python3.9/site-packages (from imbalanced-learn->imblearn) (1.23.5)\n",
      "Installing collected packages: imbalanced-learn, imblearn\n",
      "Successfully installed imbalanced-learn-0.12.2 imblearn-0.0\n"
     ]
    }
   ],
   "source": [
    "#install\n",
    "!pip install imblearn"
   ]
  },
  {
   "cell_type": "code",
   "execution_count": 276,
   "metadata": {
    "cell_id": "5e0f7c40d70f4ffd9cf842131c93b523",
    "deepnote_cell_type": "code"
   },
   "outputs": [],
   "source": [
    "# Add any additional libraries or submodules below\n",
    "from sklearn.model_selection import train_test_split\n",
    "from imblearn.over_sampling import RandomOverSampler\n",
    "from imblearn.under_sampling import RandomUnderSampler\n",
    "\n",
    "# Data libraries\n",
    "import pandas as pd\n",
    "import numpy as np\n",
    "\n",
    "# Plotting libraries\n",
    "import matplotlib.pyplot as plt\n",
    "import seaborn as sns\n",
    "\n",
    "# Plotting defaults\n",
    "plt.rcParams['figure.figsize'] = (8,5)\n",
    "plt.rcParams['figure.dpi'] = 80\n",
    "\n",
    "# sklearn modules\n",
    "import sklearn"
   ]
  },
  {
   "cell_type": "code",
   "execution_count": 216,
   "metadata": {
    "cell_id": "c4b2ebf63937440f9cec0090082b1a9f",
    "deepnote_cell_type": "code"
   },
   "outputs": [
    {
     "data": {
      "text/html": [
       "<div>\n",
       "<style scoped>\n",
       "    .dataframe tbody tr th:only-of-type {\n",
       "        vertical-align: middle;\n",
       "    }\n",
       "\n",
       "    .dataframe tbody tr th {\n",
       "        vertical-align: top;\n",
       "    }\n",
       "\n",
       "    .dataframe thead th {\n",
       "        text-align: right;\n",
       "    }\n",
       "</style>\n",
       "<table border=\"1\" class=\"dataframe\">\n",
       "  <thead>\n",
       "    <tr style=\"text-align: right;\">\n",
       "      <th></th>\n",
       "      <th>fico</th>\n",
       "      <th>dt_first_pi</th>\n",
       "      <th>flag_fthb</th>\n",
       "      <th>dt_matr</th>\n",
       "      <th>cd_msa</th>\n",
       "      <th>mi_pct</th>\n",
       "      <th>cnt_units</th>\n",
       "      <th>occpy_sts</th>\n",
       "      <th>cltv</th>\n",
       "      <th>dti</th>\n",
       "      <th>...</th>\n",
       "      <th>zipcode</th>\n",
       "      <th>id_loan</th>\n",
       "      <th>loan_purpose</th>\n",
       "      <th>orig_loan_term</th>\n",
       "      <th>cnt_borr</th>\n",
       "      <th>seller_name</th>\n",
       "      <th>servicer_name</th>\n",
       "      <th>flag_sc</th>\n",
       "      <th>prepaid</th>\n",
       "      <th>default</th>\n",
       "    </tr>\n",
       "  </thead>\n",
       "  <tbody>\n",
       "    <tr>\n",
       "      <th>0</th>\n",
       "      <td>709.0</td>\n",
       "      <td>201703</td>\n",
       "      <td>9</td>\n",
       "      <td>204702</td>\n",
       "      <td>NaN</td>\n",
       "      <td>12</td>\n",
       "      <td>1</td>\n",
       "      <td>P</td>\n",
       "      <td>84</td>\n",
       "      <td>26</td>\n",
       "      <td>...</td>\n",
       "      <td>51300</td>\n",
       "      <td>F117Q1000376</td>\n",
       "      <td>N</td>\n",
       "      <td>360</td>\n",
       "      <td>2</td>\n",
       "      <td>Other sellers</td>\n",
       "      <td>Other servicers</td>\n",
       "      <td>NaN</td>\n",
       "      <td>0</td>\n",
       "      <td>1</td>\n",
       "    </tr>\n",
       "    <tr>\n",
       "      <th>1</th>\n",
       "      <td>649.0</td>\n",
       "      <td>201703</td>\n",
       "      <td>9</td>\n",
       "      <td>203202</td>\n",
       "      <td>33124.0</td>\n",
       "      <td>0</td>\n",
       "      <td>1</td>\n",
       "      <td>P</td>\n",
       "      <td>52</td>\n",
       "      <td>22</td>\n",
       "      <td>...</td>\n",
       "      <td>33100</td>\n",
       "      <td>F117Q1000418</td>\n",
       "      <td>C</td>\n",
       "      <td>180</td>\n",
       "      <td>2</td>\n",
       "      <td>Other sellers</td>\n",
       "      <td>Other servicers</td>\n",
       "      <td>NaN</td>\n",
       "      <td>1</td>\n",
       "      <td>0</td>\n",
       "    </tr>\n",
       "    <tr>\n",
       "      <th>2</th>\n",
       "      <td>747.0</td>\n",
       "      <td>201703</td>\n",
       "      <td>9</td>\n",
       "      <td>203702</td>\n",
       "      <td>41180.0</td>\n",
       "      <td>0</td>\n",
       "      <td>1</td>\n",
       "      <td>I</td>\n",
       "      <td>43</td>\n",
       "      <td>20</td>\n",
       "      <td>...</td>\n",
       "      <td>63100</td>\n",
       "      <td>F117Q1000479</td>\n",
       "      <td>N</td>\n",
       "      <td>240</td>\n",
       "      <td>2</td>\n",
       "      <td>Other sellers</td>\n",
       "      <td>Other servicers</td>\n",
       "      <td>NaN</td>\n",
       "      <td>1</td>\n",
       "      <td>0</td>\n",
       "    </tr>\n",
       "    <tr>\n",
       "      <th>3</th>\n",
       "      <td>711.0</td>\n",
       "      <td>201703</td>\n",
       "      <td>9</td>\n",
       "      <td>204702</td>\n",
       "      <td>20260.0</td>\n",
       "      <td>0</td>\n",
       "      <td>1</td>\n",
       "      <td>I</td>\n",
       "      <td>80</td>\n",
       "      <td>21</td>\n",
       "      <td>...</td>\n",
       "      <td>55800</td>\n",
       "      <td>F117Q1000523</td>\n",
       "      <td>P</td>\n",
       "      <td>360</td>\n",
       "      <td>2</td>\n",
       "      <td>Other sellers</td>\n",
       "      <td>Other servicers</td>\n",
       "      <td>NaN</td>\n",
       "      <td>1</td>\n",
       "      <td>0</td>\n",
       "    </tr>\n",
       "    <tr>\n",
       "      <th>4</th>\n",
       "      <td>751.0</td>\n",
       "      <td>201703</td>\n",
       "      <td>N</td>\n",
       "      <td>204702</td>\n",
       "      <td>NaN</td>\n",
       "      <td>35</td>\n",
       "      <td>1</td>\n",
       "      <td>P</td>\n",
       "      <td>95</td>\n",
       "      <td>24</td>\n",
       "      <td>...</td>\n",
       "      <td>75900</td>\n",
       "      <td>F117Q1000719</td>\n",
       "      <td>P</td>\n",
       "      <td>360</td>\n",
       "      <td>1</td>\n",
       "      <td>Other sellers</td>\n",
       "      <td>ARVESTCENTRALMTGECO</td>\n",
       "      <td>NaN</td>\n",
       "      <td>1</td>\n",
       "      <td>0</td>\n",
       "    </tr>\n",
       "  </tbody>\n",
       "</table>\n",
       "<p>5 rows × 28 columns</p>\n",
       "</div>"
      ],
      "text/plain": [
       "    fico  dt_first_pi flag_fthb  dt_matr   cd_msa  mi_pct  cnt_units  \\\n",
       "0  709.0       201703         9   204702      NaN      12          1   \n",
       "1  649.0       201703         9   203202  33124.0       0          1   \n",
       "2  747.0       201703         9   203702  41180.0       0          1   \n",
       "3  711.0       201703         9   204702  20260.0       0          1   \n",
       "4  751.0       201703         N   204702      NaN      35          1   \n",
       "\n",
       "  occpy_sts  cltv  dti  ...  zipcode       id_loan  loan_purpose  \\\n",
       "0         P    84   26  ...    51300  F117Q1000376             N   \n",
       "1         P    52   22  ...    33100  F117Q1000418             C   \n",
       "2         I    43   20  ...    63100  F117Q1000479             N   \n",
       "3         I    80   21  ...    55800  F117Q1000523             P   \n",
       "4         P    95   24  ...    75900  F117Q1000719             P   \n",
       "\n",
       "  orig_loan_term cnt_borr    seller_name        servicer_name flag_sc  \\\n",
       "0            360        2  Other sellers      Other servicers     NaN   \n",
       "1            180        2  Other sellers      Other servicers     NaN   \n",
       "2            240        2  Other sellers      Other servicers     NaN   \n",
       "3            360        2  Other sellers      Other servicers     NaN   \n",
       "4            360        1  Other sellers  ARVESTCENTRALMTGECO     NaN   \n",
       "\n",
       "   prepaid default  \n",
       "0        0       1  \n",
       "1        1       0  \n",
       "2        1       0  \n",
       "3        1       0  \n",
       "4        1       0  \n",
       "\n",
       "[5 rows x 28 columns]"
      ]
     },
     "execution_count": 216,
     "metadata": {},
     "output_type": "execute_result"
    }
   ],
   "source": [
    "# Load data in easyshare.csv\n",
    "d = pd.read_csv(\"freddiemac.csv\")\n",
    "d.head()"
   ]
  },
  {
   "cell_type": "code",
   "execution_count": 217,
   "metadata": {},
   "outputs": [
    {
     "data": {
      "text/plain": [
       "0     4884\n",
       "30     650\n",
       "25     342\n",
       "12     204\n",
       "6       22\n",
       "35       1\n",
       "20       1\n",
       "Name: mi_pct, dtype: int64"
      ]
     },
     "execution_count": 217,
     "metadata": {},
     "output_type": "execute_result"
    }
   ],
   "source": [
    "d.mi_pct.value_counts()"
   ]
  },
  {
   "cell_type": "markdown",
   "metadata": {
    "cell_id": "2f8169f6321440e8b5ea4f531ad84e40",
    "deepnote_cell_type": "markdown"
   },
   "source": [
    "# Introduction\n",
    "\n",
    "*This section should include a brief introduction to the task and the data (assume this is a report you are delivering to a professional body (e.g. FreddiMac company or similar company). If you use any additional data sources, you should introduce them here and discuss why they were included.*\n",
    "\n",
    "*Briefly outline the approaches being used and the conclusions that you are able to draw.*"
   ]
  },
  {
   "cell_type": "markdown",
   "metadata": {
    "cell_id": "39bbd2e9126647069f9c854fc6876df9",
    "deepnote_cell_type": "markdown"
   },
   "source": [
    "# Exploratory Data Analysis and Feature Engineering\n",
    "\n",
    "*Include a detailed discussion of the data with a particular emphasis on the features of the data that are relevant for the subsequent modeling. Including visualizations of the data is strongly encouraged - all code and plots must also be described in the write up. Think carefully about whether each plot needs to be included in your final draft - your report should include figures but they should be as focused and impactful as possible.*\n",
    "\n",
    "*You should also split your data into training and testing sets, ideally before you look to much into the features and relationships with the target*\n",
    "\n",
    "*Additionally, this section should also implement and describe any preprocessing / feature engineering of the data. Specifically, this should be any code that you use to generate new columns in the data frame `d`. Feature engineering that will be performed as part of an sklearn pipeline can be mentioned here but should be implemented in the following section.*\n",
    "\n",
    "*If you decide to extract additional features from the full data (easyshare_all.csv), describe these variables here.*\n",
    "\n",
    "*All code and figures should be accompanied by text that provides an overview / context to what is being done or presented.*"
   ]
  },
  {
   "cell_type": "code",
   "execution_count": 218,
   "metadata": {},
   "outputs": [],
   "source": [
    "#encode missing codes with NA\n",
    "d.loc[d[\"flag_fthb\"] == \"9\", \"flag_fthb\"] = float(\"nan\")\n",
    "#d.loc[d[\"mi_pct\"] == 999, \"mi_pct\"] = float(\"nan\")\n",
    "d.loc[d[\"cltv\"] == 999, \"cltv\"] = float(\"nan\")\n",
    "d.loc[d[\"dti\"] == 999, \"dti\"] = float(\"nan\")\n",
    "d.loc[d[\"ltv\"] == 999, \"ltv\"] = float(\"nan\")"
   ]
  },
  {
   "cell_type": "code",
   "execution_count": 219,
   "metadata": {},
   "outputs": [],
   "source": [
    "#to remove\n",
    "d.drop(columns=['ppmt_pnlty', 'prod_type', 'prepaid'], inplace = True)\n",
    "#ppmt_pnlty 'N'\n",
    "#prod_type 'FRM'\n",
    "\n",
    "#convert nan to 'N'\n",
    "d.loc[d[\"flag_sc\"].isna(), \"flag_sc\"] = \"N\""
   ]
  },
  {
   "cell_type": "code",
   "execution_count": 233,
   "metadata": {},
   "outputs": [],
   "source": [
    "#split year and month and create new columns\n",
    "\n",
    "d[\"year_first_pi\"] = [int(str(i)[0:4]) for i in d[\"dt_first_pi\"]]\n",
    "d[\"month_first_pi\"] = [int(str(i)[4:]) for i in d[\"dt_first_pi\"]]\n",
    "\n",
    "d[\"year_matr\"] = [int(str(i)[0:4]) for i in d[\"dt_matr\"]]\n",
    "d[\"month_matr\"] = [int(str(i)[4:]) for i in d[\"dt_matr\"]]\n",
    "\n",
    "#drop the original columns\n",
    "d.drop(columns=['dt_first_pi', 'dt_matr'], inplace = True)"
   ]
  },
  {
   "cell_type": "code",
   "execution_count": 234,
   "metadata": {},
   "outputs": [
    {
     "data": {
      "text/html": [
       "<div>\n",
       "<style scoped>\n",
       "    .dataframe tbody tr th:only-of-type {\n",
       "        vertical-align: middle;\n",
       "    }\n",
       "\n",
       "    .dataframe tbody tr th {\n",
       "        vertical-align: top;\n",
       "    }\n",
       "\n",
       "    .dataframe thead th {\n",
       "        text-align: right;\n",
       "    }\n",
       "</style>\n",
       "<table border=\"1\" class=\"dataframe\">\n",
       "  <thead>\n",
       "    <tr style=\"text-align: right;\">\n",
       "      <th></th>\n",
       "      <th>fico</th>\n",
       "      <th>flag_fthb</th>\n",
       "      <th>cd_msa</th>\n",
       "      <th>mi_pct</th>\n",
       "      <th>cnt_units</th>\n",
       "      <th>occpy_sts</th>\n",
       "      <th>cltv</th>\n",
       "      <th>dti</th>\n",
       "      <th>orig_upb</th>\n",
       "      <th>ltv</th>\n",
       "      <th>...</th>\n",
       "      <th>orig_loan_term</th>\n",
       "      <th>cnt_borr</th>\n",
       "      <th>seller_name</th>\n",
       "      <th>servicer_name</th>\n",
       "      <th>flag_sc</th>\n",
       "      <th>default</th>\n",
       "      <th>year_first_pi</th>\n",
       "      <th>month_first_pi</th>\n",
       "      <th>year_matr</th>\n",
       "      <th>month_matr</th>\n",
       "    </tr>\n",
       "  </thead>\n",
       "  <tbody>\n",
       "    <tr>\n",
       "      <th>0</th>\n",
       "      <td>709.0</td>\n",
       "      <td>NaN</td>\n",
       "      <td>NaN</td>\n",
       "      <td>12</td>\n",
       "      <td>1</td>\n",
       "      <td>P</td>\n",
       "      <td>84.0</td>\n",
       "      <td>26.0</td>\n",
       "      <td>310000</td>\n",
       "      <td>84.0</td>\n",
       "      <td>...</td>\n",
       "      <td>360</td>\n",
       "      <td>2</td>\n",
       "      <td>Other sellers</td>\n",
       "      <td>Other servicers</td>\n",
       "      <td>N</td>\n",
       "      <td>1</td>\n",
       "      <td>2017</td>\n",
       "      <td>3</td>\n",
       "      <td>2047</td>\n",
       "      <td>2</td>\n",
       "    </tr>\n",
       "    <tr>\n",
       "      <th>1</th>\n",
       "      <td>649.0</td>\n",
       "      <td>NaN</td>\n",
       "      <td>33124.0</td>\n",
       "      <td>0</td>\n",
       "      <td>1</td>\n",
       "      <td>P</td>\n",
       "      <td>52.0</td>\n",
       "      <td>22.0</td>\n",
       "      <td>190000</td>\n",
       "      <td>52.0</td>\n",
       "      <td>...</td>\n",
       "      <td>180</td>\n",
       "      <td>2</td>\n",
       "      <td>Other sellers</td>\n",
       "      <td>Other servicers</td>\n",
       "      <td>N</td>\n",
       "      <td>0</td>\n",
       "      <td>2017</td>\n",
       "      <td>3</td>\n",
       "      <td>2032</td>\n",
       "      <td>2</td>\n",
       "    </tr>\n",
       "    <tr>\n",
       "      <th>2</th>\n",
       "      <td>747.0</td>\n",
       "      <td>NaN</td>\n",
       "      <td>41180.0</td>\n",
       "      <td>0</td>\n",
       "      <td>1</td>\n",
       "      <td>I</td>\n",
       "      <td>43.0</td>\n",
       "      <td>20.0</td>\n",
       "      <td>61000</td>\n",
       "      <td>43.0</td>\n",
       "      <td>...</td>\n",
       "      <td>240</td>\n",
       "      <td>2</td>\n",
       "      <td>Other sellers</td>\n",
       "      <td>Other servicers</td>\n",
       "      <td>N</td>\n",
       "      <td>0</td>\n",
       "      <td>2017</td>\n",
       "      <td>3</td>\n",
       "      <td>2037</td>\n",
       "      <td>2</td>\n",
       "    </tr>\n",
       "    <tr>\n",
       "      <th>3</th>\n",
       "      <td>711.0</td>\n",
       "      <td>NaN</td>\n",
       "      <td>20260.0</td>\n",
       "      <td>0</td>\n",
       "      <td>1</td>\n",
       "      <td>I</td>\n",
       "      <td>80.0</td>\n",
       "      <td>21.0</td>\n",
       "      <td>90000</td>\n",
       "      <td>80.0</td>\n",
       "      <td>...</td>\n",
       "      <td>360</td>\n",
       "      <td>2</td>\n",
       "      <td>Other sellers</td>\n",
       "      <td>Other servicers</td>\n",
       "      <td>N</td>\n",
       "      <td>0</td>\n",
       "      <td>2017</td>\n",
       "      <td>3</td>\n",
       "      <td>2047</td>\n",
       "      <td>2</td>\n",
       "    </tr>\n",
       "    <tr>\n",
       "      <th>4</th>\n",
       "      <td>751.0</td>\n",
       "      <td>N</td>\n",
       "      <td>NaN</td>\n",
       "      <td>35</td>\n",
       "      <td>1</td>\n",
       "      <td>P</td>\n",
       "      <td>95.0</td>\n",
       "      <td>24.0</td>\n",
       "      <td>112000</td>\n",
       "      <td>95.0</td>\n",
       "      <td>...</td>\n",
       "      <td>360</td>\n",
       "      <td>1</td>\n",
       "      <td>Other sellers</td>\n",
       "      <td>ARVESTCENTRALMTGECO</td>\n",
       "      <td>N</td>\n",
       "      <td>0</td>\n",
       "      <td>2017</td>\n",
       "      <td>3</td>\n",
       "      <td>2047</td>\n",
       "      <td>2</td>\n",
       "    </tr>\n",
       "    <tr>\n",
       "      <th>...</th>\n",
       "      <td>...</td>\n",
       "      <td>...</td>\n",
       "      <td>...</td>\n",
       "      <td>...</td>\n",
       "      <td>...</td>\n",
       "      <td>...</td>\n",
       "      <td>...</td>\n",
       "      <td>...</td>\n",
       "      <td>...</td>\n",
       "      <td>...</td>\n",
       "      <td>...</td>\n",
       "      <td>...</td>\n",
       "      <td>...</td>\n",
       "      <td>...</td>\n",
       "      <td>...</td>\n",
       "      <td>...</td>\n",
       "      <td>...</td>\n",
       "      <td>...</td>\n",
       "      <td>...</td>\n",
       "      <td>...</td>\n",
       "      <td>...</td>\n",
       "    </tr>\n",
       "    <tr>\n",
       "      <th>6099</th>\n",
       "      <td>725.0</td>\n",
       "      <td>NaN</td>\n",
       "      <td>41500.0</td>\n",
       "      <td>0</td>\n",
       "      <td>1</td>\n",
       "      <td>P</td>\n",
       "      <td>59.0</td>\n",
       "      <td>40.0</td>\n",
       "      <td>160000</td>\n",
       "      <td>59.0</td>\n",
       "      <td>...</td>\n",
       "      <td>360</td>\n",
       "      <td>2</td>\n",
       "      <td>WELLSFARGOBANK,NA</td>\n",
       "      <td>WELLSFARGOBANK,NA</td>\n",
       "      <td>N</td>\n",
       "      <td>0</td>\n",
       "      <td>2018</td>\n",
       "      <td>11</td>\n",
       "      <td>2048</td>\n",
       "      <td>10</td>\n",
       "    </tr>\n",
       "    <tr>\n",
       "      <th>6100</th>\n",
       "      <td>768.0</td>\n",
       "      <td>Y</td>\n",
       "      <td>31084.0</td>\n",
       "      <td>0</td>\n",
       "      <td>1</td>\n",
       "      <td>P</td>\n",
       "      <td>79.0</td>\n",
       "      <td>46.0</td>\n",
       "      <td>500000</td>\n",
       "      <td>79.0</td>\n",
       "      <td>...</td>\n",
       "      <td>360</td>\n",
       "      <td>2</td>\n",
       "      <td>STEARNSLENDING,LLC</td>\n",
       "      <td>Other servicers</td>\n",
       "      <td>Y</td>\n",
       "      <td>0</td>\n",
       "      <td>2018</td>\n",
       "      <td>9</td>\n",
       "      <td>2048</td>\n",
       "      <td>8</td>\n",
       "    </tr>\n",
       "    <tr>\n",
       "      <th>6101</th>\n",
       "      <td>752.0</td>\n",
       "      <td>NaN</td>\n",
       "      <td>39900.0</td>\n",
       "      <td>0</td>\n",
       "      <td>1</td>\n",
       "      <td>I</td>\n",
       "      <td>80.0</td>\n",
       "      <td>12.0</td>\n",
       "      <td>213000</td>\n",
       "      <td>80.0</td>\n",
       "      <td>...</td>\n",
       "      <td>180</td>\n",
       "      <td>2</td>\n",
       "      <td>Other sellers</td>\n",
       "      <td>Other servicers</td>\n",
       "      <td>N</td>\n",
       "      <td>0</td>\n",
       "      <td>2018</td>\n",
       "      <td>11</td>\n",
       "      <td>2033</td>\n",
       "      <td>10</td>\n",
       "    </tr>\n",
       "    <tr>\n",
       "      <th>6102</th>\n",
       "      <td>777.0</td>\n",
       "      <td>N</td>\n",
       "      <td>31084.0</td>\n",
       "      <td>0</td>\n",
       "      <td>1</td>\n",
       "      <td>P</td>\n",
       "      <td>80.0</td>\n",
       "      <td>48.0</td>\n",
       "      <td>238000</td>\n",
       "      <td>80.0</td>\n",
       "      <td>...</td>\n",
       "      <td>360</td>\n",
       "      <td>1</td>\n",
       "      <td>AMERIHOMEMTGECOMPANY</td>\n",
       "      <td>AMERIHOMEMTGECOMPANY</td>\n",
       "      <td>N</td>\n",
       "      <td>0</td>\n",
       "      <td>2018</td>\n",
       "      <td>11</td>\n",
       "      <td>2048</td>\n",
       "      <td>10</td>\n",
       "    </tr>\n",
       "    <tr>\n",
       "      <th>6103</th>\n",
       "      <td>697.0</td>\n",
       "      <td>NaN</td>\n",
       "      <td>NaN</td>\n",
       "      <td>0</td>\n",
       "      <td>1</td>\n",
       "      <td>P</td>\n",
       "      <td>73.0</td>\n",
       "      <td>45.0</td>\n",
       "      <td>140000</td>\n",
       "      <td>73.0</td>\n",
       "      <td>...</td>\n",
       "      <td>360</td>\n",
       "      <td>1</td>\n",
       "      <td>Other sellers</td>\n",
       "      <td>Other servicers</td>\n",
       "      <td>N</td>\n",
       "      <td>0</td>\n",
       "      <td>2019</td>\n",
       "      <td>1</td>\n",
       "      <td>2048</td>\n",
       "      <td>12</td>\n",
       "    </tr>\n",
       "  </tbody>\n",
       "</table>\n",
       "<p>6104 rows × 27 columns</p>\n",
       "</div>"
      ],
      "text/plain": [
       "       fico flag_fthb   cd_msa  mi_pct  cnt_units occpy_sts  cltv   dti  \\\n",
       "0     709.0       NaN      NaN      12          1         P  84.0  26.0   \n",
       "1     649.0       NaN  33124.0       0          1         P  52.0  22.0   \n",
       "2     747.0       NaN  41180.0       0          1         I  43.0  20.0   \n",
       "3     711.0       NaN  20260.0       0          1         I  80.0  21.0   \n",
       "4     751.0         N      NaN      35          1         P  95.0  24.0   \n",
       "...     ...       ...      ...     ...        ...       ...   ...   ...   \n",
       "6099  725.0       NaN  41500.0       0          1         P  59.0  40.0   \n",
       "6100  768.0         Y  31084.0       0          1         P  79.0  46.0   \n",
       "6101  752.0       NaN  39900.0       0          1         I  80.0  12.0   \n",
       "6102  777.0         N  31084.0       0          1         P  80.0  48.0   \n",
       "6103  697.0       NaN      NaN       0          1         P  73.0  45.0   \n",
       "\n",
       "      orig_upb   ltv  ...  orig_loan_term cnt_borr           seller_name  \\\n",
       "0       310000  84.0  ...             360        2         Other sellers   \n",
       "1       190000  52.0  ...             180        2         Other sellers   \n",
       "2        61000  43.0  ...             240        2         Other sellers   \n",
       "3        90000  80.0  ...             360        2         Other sellers   \n",
       "4       112000  95.0  ...             360        1         Other sellers   \n",
       "...        ...   ...  ...             ...      ...                   ...   \n",
       "6099    160000  59.0  ...             360        2     WELLSFARGOBANK,NA   \n",
       "6100    500000  79.0  ...             360        2    STEARNSLENDING,LLC   \n",
       "6101    213000  80.0  ...             180        2         Other sellers   \n",
       "6102    238000  80.0  ...             360        1  AMERIHOMEMTGECOMPANY   \n",
       "6103    140000  73.0  ...             360        1         Other sellers   \n",
       "\n",
       "             servicer_name  flag_sc default year_first_pi  month_first_pi  \\\n",
       "0          Other servicers        N       1          2017               3   \n",
       "1          Other servicers        N       0          2017               3   \n",
       "2          Other servicers        N       0          2017               3   \n",
       "3          Other servicers        N       0          2017               3   \n",
       "4      ARVESTCENTRALMTGECO        N       0          2017               3   \n",
       "...                    ...      ...     ...           ...             ...   \n",
       "6099     WELLSFARGOBANK,NA        N       0          2018              11   \n",
       "6100       Other servicers        Y       0          2018               9   \n",
       "6101       Other servicers        N       0          2018              11   \n",
       "6102  AMERIHOMEMTGECOMPANY        N       0          2018              11   \n",
       "6103       Other servicers        N       0          2019               1   \n",
       "\n",
       "      year_matr month_matr  \n",
       "0          2047          2  \n",
       "1          2032          2  \n",
       "2          2037          2  \n",
       "3          2047          2  \n",
       "4          2047          2  \n",
       "...         ...        ...  \n",
       "6099       2048         10  \n",
       "6100       2048          8  \n",
       "6101       2033         10  \n",
       "6102       2048         10  \n",
       "6103       2048         12  \n",
       "\n",
       "[6104 rows x 27 columns]"
      ]
     },
     "execution_count": 234,
     "metadata": {},
     "output_type": "execute_result"
    }
   ],
   "source": [
    "d"
   ]
  },
  {
   "cell_type": "code",
   "execution_count": 235,
   "metadata": {},
   "outputs": [
    {
     "data": {
      "text/plain": [
       "0    2366\n",
       "1      34\n",
       "Name: default, dtype: int64"
      ]
     },
     "execution_count": 235,
     "metadata": {},
     "output_type": "execute_result"
    }
   ],
   "source": [
    "d[~d.isnull().any(axis=1)].default.value_counts()"
   ]
  },
  {
   "cell_type": "code",
   "execution_count": 236,
   "metadata": {
    "scrolled": true
   },
   "outputs": [
    {
     "name": "stdout",
     "output_type": "stream",
     "text": [
      "<class 'pandas.core.frame.DataFrame'>\n",
      "RangeIndex: 6104 entries, 0 to 6103\n",
      "Data columns (total 27 columns):\n",
      " #   Column          Non-Null Count  Dtype  \n",
      "---  ------          --------------  -----  \n",
      " 0   fico            6103 non-null   float64\n",
      " 1   flag_fthb       2636 non-null   object \n",
      " 2   cd_msa          5510 non-null   float64\n",
      " 3   mi_pct          6104 non-null   int64  \n",
      " 4   cnt_units       6104 non-null   int64  \n",
      " 5   occpy_sts       6104 non-null   object \n",
      " 6   cltv            6103 non-null   float64\n",
      " 7   dti             6103 non-null   float64\n",
      " 8   orig_upb        6104 non-null   int64  \n",
      " 9   ltv             6103 non-null   float64\n",
      " 10  int_rt          6104 non-null   float64\n",
      " 11  channel         6104 non-null   object \n",
      " 12  st              6104 non-null   object \n",
      " 13  prop_type       6104 non-null   object \n",
      " 14  zipcode         6104 non-null   int64  \n",
      " 15  id_loan         6104 non-null   object \n",
      " 16  loan_purpose    6104 non-null   object \n",
      " 17  orig_loan_term  6104 non-null   int64  \n",
      " 18  cnt_borr        6104 non-null   int64  \n",
      " 19  seller_name     6104 non-null   object \n",
      " 20  servicer_name   6104 non-null   object \n",
      " 21  flag_sc         6104 non-null   object \n",
      " 22  default         6104 non-null   int64  \n",
      " 23  year_first_pi   6104 non-null   int64  \n",
      " 24  month_first_pi  6104 non-null   int64  \n",
      " 25  year_matr       6104 non-null   int64  \n",
      " 26  month_matr      6104 non-null   int64  \n",
      "dtypes: float64(6), int64(11), object(10)\n",
      "memory usage: 1.3+ MB\n"
     ]
    }
   ],
   "source": [
    "d.info()"
   ]
  },
  {
   "cell_type": "code",
   "execution_count": 237,
   "metadata": {},
   "outputs": [],
   "source": [
    "df_clean = d.drop(columns = [\"flag_fthb\"])"
   ]
  },
  {
   "cell_type": "code",
   "execution_count": 257,
   "metadata": {},
   "outputs": [],
   "source": [
    "df_clean = df_clean[~df_clean.isnull().any(axis=1)]"
   ]
  },
  {
   "cell_type": "code",
   "execution_count": 258,
   "metadata": {},
   "outputs": [
    {
     "data": {
      "text/plain": [
       "0    5419\n",
       "1      88\n",
       "Name: default, dtype: int64"
      ]
     },
     "execution_count": 258,
     "metadata": {},
     "output_type": "execute_result"
    }
   ],
   "source": [
    "df_clean.default.value_counts()"
   ]
  },
  {
   "cell_type": "code",
   "execution_count": 226,
   "metadata": {},
   "outputs": [
    {
     "data": {
      "text/plain": [
       "0.01597966224804794"
      ]
     },
     "execution_count": 226,
     "metadata": {},
     "output_type": "execute_result"
    }
   ],
   "source": [
    "88/(5419+88)"
   ]
  },
  {
   "cell_type": "code",
   "execution_count": 266,
   "metadata": {},
   "outputs": [],
   "source": [
    "#split the data\n",
    "data_x, data_y = df_clean.drop(['default'], axis=1), df_clean['default']\n",
    "\n",
    "X_train, X_test, y_train, y_test = train_test_split(data_x, data_y, test_size = 0.2, random_state=42, stratify=data_y)"
   ]
  },
  {
   "cell_type": "code",
   "execution_count": 267,
   "metadata": {},
   "outputs": [
    {
     "data": {
      "text/plain": [
       "0    4335\n",
       "1      70\n",
       "Name: default, dtype: int64"
      ]
     },
     "execution_count": 267,
     "metadata": {},
     "output_type": "execute_result"
    }
   ],
   "source": [
    "y_train.value_counts()"
   ]
  },
  {
   "cell_type": "code",
   "execution_count": 268,
   "metadata": {},
   "outputs": [
    {
     "data": {
      "text/plain": [
       "0    1084\n",
       "1      18\n",
       "Name: default, dtype: int64"
      ]
     },
     "execution_count": 268,
     "metadata": {},
     "output_type": "execute_result"
    }
   ],
   "source": [
    "y_test.value_counts()"
   ]
  },
  {
   "cell_type": "code",
   "execution_count": 240,
   "metadata": {},
   "outputs": [],
   "source": [
    "#columns names\n",
    "col_names = list(df_clean.columns)\n",
    "col_names.remove(\"default\")"
   ]
  },
  {
   "cell_type": "code",
   "execution_count": 241,
   "metadata": {},
   "outputs": [],
   "source": [
    "#define train dataset\n",
    "df_train = pd.DataFrame(X_train, columns = col_names)\n",
    "df_train[\"default\"] = y_train"
   ]
  },
  {
   "cell_type": "code",
   "execution_count": null,
   "metadata": {},
   "outputs": [],
   "source": [
    "#EDA\n",
    "#fun map with cd_msa and color depending on the count"
   ]
  },
  {
   "cell_type": "code",
   "execution_count": 242,
   "metadata": {},
   "outputs": [
    {
     "data": {
      "text/plain": [
       "<Axes: xlabel='default', ylabel='fico'>"
      ]
     },
     "execution_count": 242,
     "metadata": {},
     "output_type": "execute_result"
    },
    {
     "data": {
      "image/png": "[encoded data removed]",
      "text/plain": [
       "<Figure size 640x400 with 1 Axes>"
      ]
     },
     "metadata": {},
     "output_type": "display_data"
    }
   ],
   "source": [
    "sns.boxplot(df_train, x = \"default\", y = \"fico\")"
   ]
  },
  {
   "cell_type": "code",
   "execution_count": 245,
   "metadata": {},
   "outputs": [
    {
     "name": "stderr",
     "output_type": "stream",
     "text": [
      "/tmp/ipykernel_137/2489043797.py:2: FutureWarning: The default value of numeric_only in DataFrame.corr is deprecated. In a future version, it will default to False. Select only valid columns or specify the value of numeric_only to silence this warning.\n",
      "  sns.heatmap(df_train.corr(), ax = ax)\n"
     ]
    },
    {
     "data": {
      "image/png": "[encoded data removed]",
      "text/plain": [
       "<Figure size 640x400 with 2 Axes>"
      ]
     },
     "metadata": {},
     "output_type": "display_data"
    }
   ],
   "source": [
    "ax = plt.axes()\n",
    "sns.heatmap(df_train.corr(), ax = ax)\n",
    "\n",
    "ax.set_title('Correlation Heatmap')\n",
    "plt.show()"
   ]
  },
  {
   "cell_type": "code",
   "execution_count": 250,
   "metadata": {},
   "outputs": [
    {
     "name": "stderr",
     "output_type": "stream",
     "text": [
      "/tmp/ipykernel_137/4028883738.py:1: FutureWarning: The default value of numeric_only in DataFrame.corr is deprecated. In a future version, it will default to False. Select only valid columns or specify the value of numeric_only to silence this warning.\n",
      "  df_train.corr()[\"default\"].sort_values()\n"
     ]
    },
    {
     "data": {
      "text/plain": [
       "fico             -0.107062\n",
       "cnt_borr         -0.054662\n",
       "zipcode          -0.022687\n",
       "month_matr       -0.009594\n",
       "month_first_pi   -0.009176\n",
       "orig_upb         -0.001933\n",
       "mi_pct            0.012166\n",
       "ltv               0.013045\n",
       "cltv              0.013312\n",
       "orig_loan_term    0.018893\n",
       "year_matr         0.022695\n",
       "cnt_units         0.031531\n",
       "dti               0.031981\n",
       "cd_msa            0.032007\n",
       "year_first_pi     0.049087\n",
       "int_rt            0.070045\n",
       "default           1.000000\n",
       "Name: default, dtype: float64"
      ]
     },
     "execution_count": 250,
     "metadata": {},
     "output_type": "execute_result"
    }
   ],
   "source": [
    "df_train.corr()[\"default\"].sort_values()"
   ]
  },
  {
   "cell_type": "code",
   "execution_count": 251,
   "metadata": {},
   "outputs": [
    {
     "name": "stderr",
     "output_type": "stream",
     "text": [
      "/tmp/ipykernel_137/172650402.py:1: FutureWarning: The default value of numeric_only in DataFrame.corr is deprecated. In a future version, it will default to False. Select only valid columns or specify the value of numeric_only to silence this warning.\n",
      "  df_train.corr(method = \"kendall\")[\"default\"].sort_values()\n"
     ]
    },
    {
     "data": {
      "text/plain": [
       "fico             -0.082270\n",
       "cnt_borr         -0.054662\n",
       "zipcode          -0.017477\n",
       "month_matr       -0.007054\n",
       "month_first_pi   -0.006582\n",
       "orig_upb         -0.002508\n",
       "ltv               0.006280\n",
       "cltv              0.006673\n",
       "mi_pct            0.013634\n",
       "orig_loan_term    0.019259\n",
       "cd_msa            0.026155\n",
       "dti               0.029756\n",
       "cnt_units         0.038618\n",
       "year_matr         0.044122\n",
       "year_first_pi     0.049165\n",
       "int_rt            0.055204\n",
       "default           1.000000\n",
       "Name: default, dtype: float64"
      ]
     },
     "execution_count": 251,
     "metadata": {},
     "output_type": "execute_result"
    }
   ],
   "source": [
    "df_train.corr(method = \"kendall\")[\"default\"].sort_values()"
   ]
  },
  {
   "cell_type": "code",
   "execution_count": 252,
   "metadata": {},
   "outputs": [
    {
     "name": "stderr",
     "output_type": "stream",
     "text": [
      "/tmp/ipykernel_137/2166513627.py:1: FutureWarning: The default value of numeric_only in DataFrame.corr is deprecated. In a future version, it will default to False. Select only valid columns or specify the value of numeric_only to silence this warning.\n",
      "  df_train.corr(method = \"spearman\")[\"default\"].sort_values()\n"
     ]
    },
    {
     "data": {
      "text/plain": [
       "fico             -0.100436\n",
       "cnt_borr         -0.054662\n",
       "zipcode          -0.021362\n",
       "month_matr       -0.008257\n",
       "month_first_pi   -0.007704\n",
       "orig_upb         -0.003066\n",
       "ltv               0.007414\n",
       "cltv              0.007878\n",
       "mi_pct            0.014050\n",
       "orig_loan_term    0.019658\n",
       "cd_msa            0.031847\n",
       "dti               0.035866\n",
       "cnt_units         0.038717\n",
       "year_matr         0.046924\n",
       "year_first_pi     0.049169\n",
       "int_rt            0.065532\n",
       "default           1.000000\n",
       "Name: default, dtype: float64"
      ]
     },
     "execution_count": 252,
     "metadata": {},
     "output_type": "execute_result"
    }
   ],
   "source": [
    "df_train.corr(method = \"spearman\")[\"default\"].sort_values()"
   ]
  },
  {
   "cell_type": "code",
   "execution_count": null,
   "metadata": {},
   "outputs": [],
   "source": [
    "df_train"
   ]
  },
  {
   "cell_type": "code",
   "execution_count": 253,
   "metadata": {},
   "outputs": [
    {
     "data": {
      "text/plain": [
       "0    5386\n",
       "1     107\n",
       "Name: default, dtype: int64"
      ]
     },
     "execution_count": 253,
     "metadata": {},
     "output_type": "execute_result"
    }
   ],
   "source": [
    "df_train['default'].value_counts()"
   ]
  },
  {
   "cell_type": "code",
   "execution_count": 197,
   "metadata": {},
   "outputs": [
    {
     "data": {
      "text/html": [
       "<div>\n",
       "<style scoped>\n",
       "    .dataframe tbody tr th:only-of-type {\n",
       "        vertical-align: middle;\n",
       "    }\n",
       "\n",
       "    .dataframe tbody tr th {\n",
       "        vertical-align: top;\n",
       "    }\n",
       "\n",
       "    .dataframe thead th {\n",
       "        text-align: right;\n",
       "    }\n",
       "</style>\n",
       "<table border=\"1\" class=\"dataframe\">\n",
       "  <thead>\n",
       "    <tr style=\"text-align: right;\">\n",
       "      <th></th>\n",
       "      <th>fico</th>\n",
       "      <th>dt_first_pi</th>\n",
       "      <th>dt_matr</th>\n",
       "      <th>cd_msa</th>\n",
       "      <th>mi_pct</th>\n",
       "      <th>cnt_units</th>\n",
       "      <th>occpy_sts</th>\n",
       "      <th>cltv</th>\n",
       "      <th>dti</th>\n",
       "      <th>orig_upb</th>\n",
       "      <th>...</th>\n",
       "      <th>cnt_borr</th>\n",
       "      <th>seller_name</th>\n",
       "      <th>servicer_name</th>\n",
       "      <th>flag_sc</th>\n",
       "      <th>prepaid</th>\n",
       "      <th>year_first_pi</th>\n",
       "      <th>month_first_pi</th>\n",
       "      <th>year_matr</th>\n",
       "      <th>month_matr</th>\n",
       "      <th>default</th>\n",
       "    </tr>\n",
       "  </thead>\n",
       "  <tbody>\n",
       "    <tr>\n",
       "      <th>0</th>\n",
       "      <td>790.0</td>\n",
       "      <td>201706</td>\n",
       "      <td>204705</td>\n",
       "      <td>47664.0</td>\n",
       "      <td>0</td>\n",
       "      <td>1</td>\n",
       "      <td>P</td>\n",
       "      <td>80.0</td>\n",
       "      <td>19.0</td>\n",
       "      <td>147000</td>\n",
       "      <td>...</td>\n",
       "      <td>2</td>\n",
       "      <td>UNITEDSHOREFINANCIAL</td>\n",
       "      <td>Other servicers</td>\n",
       "      <td>N</td>\n",
       "      <td>1</td>\n",
       "      <td>2017</td>\n",
       "      <td>6</td>\n",
       "      <td>2047</td>\n",
       "      <td>5</td>\n",
       "      <td>1.0</td>\n",
       "    </tr>\n",
       "    <tr>\n",
       "      <th>1</th>\n",
       "      <td>620.0</td>\n",
       "      <td>201710</td>\n",
       "      <td>203209</td>\n",
       "      <td>NaN</td>\n",
       "      <td>0</td>\n",
       "      <td>1</td>\n",
       "      <td>P</td>\n",
       "      <td>70.0</td>\n",
       "      <td>32.0</td>\n",
       "      <td>80000</td>\n",
       "      <td>...</td>\n",
       "      <td>1</td>\n",
       "      <td>Other sellers</td>\n",
       "      <td>Other servicers</td>\n",
       "      <td>N</td>\n",
       "      <td>1</td>\n",
       "      <td>2017</td>\n",
       "      <td>10</td>\n",
       "      <td>2032</td>\n",
       "      <td>9</td>\n",
       "      <td>0.0</td>\n",
       "    </tr>\n",
       "    <tr>\n",
       "      <th>2</th>\n",
       "      <td>763.0</td>\n",
       "      <td>201707</td>\n",
       "      <td>204706</td>\n",
       "      <td>13900.0</td>\n",
       "      <td>0</td>\n",
       "      <td>1</td>\n",
       "      <td>P</td>\n",
       "      <td>80.0</td>\n",
       "      <td>37.0</td>\n",
       "      <td>288000</td>\n",
       "      <td>...</td>\n",
       "      <td>2</td>\n",
       "      <td>CALIBERHOMELOANS,INC</td>\n",
       "      <td>CALIBERHOMELOANS,INC</td>\n",
       "      <td>N</td>\n",
       "      <td>1</td>\n",
       "      <td>2017</td>\n",
       "      <td>7</td>\n",
       "      <td>2047</td>\n",
       "      <td>6</td>\n",
       "      <td>0.0</td>\n",
       "    </tr>\n",
       "    <tr>\n",
       "      <th>3</th>\n",
       "      <td>734.0</td>\n",
       "      <td>201703</td>\n",
       "      <td>204702</td>\n",
       "      <td>NaN</td>\n",
       "      <td>0</td>\n",
       "      <td>1</td>\n",
       "      <td>P</td>\n",
       "      <td>49.0</td>\n",
       "      <td>45.0</td>\n",
       "      <td>220000</td>\n",
       "      <td>...</td>\n",
       "      <td>1</td>\n",
       "      <td>Other sellers</td>\n",
       "      <td>Other servicers</td>\n",
       "      <td>N</td>\n",
       "      <td>0</td>\n",
       "      <td>2017</td>\n",
       "      <td>3</td>\n",
       "      <td>2047</td>\n",
       "      <td>2</td>\n",
       "      <td>0.0</td>\n",
       "    </tr>\n",
       "    <tr>\n",
       "      <th>4</th>\n",
       "      <td>757.0</td>\n",
       "      <td>201801</td>\n",
       "      <td>204712</td>\n",
       "      <td>41740.0</td>\n",
       "      <td>0</td>\n",
       "      <td>1</td>\n",
       "      <td>P</td>\n",
       "      <td>50.0</td>\n",
       "      <td>48.0</td>\n",
       "      <td>424000</td>\n",
       "      <td>...</td>\n",
       "      <td>2</td>\n",
       "      <td>WELLSFARGOBANK,NA</td>\n",
       "      <td>WELLSFARGOBANK,NA</td>\n",
       "      <td>N</td>\n",
       "      <td>1</td>\n",
       "      <td>2018</td>\n",
       "      <td>1</td>\n",
       "      <td>2047</td>\n",
       "      <td>12</td>\n",
       "      <td>0.0</td>\n",
       "    </tr>\n",
       "    <tr>\n",
       "      <th>...</th>\n",
       "      <td>...</td>\n",
       "      <td>...</td>\n",
       "      <td>...</td>\n",
       "      <td>...</td>\n",
       "      <td>...</td>\n",
       "      <td>...</td>\n",
       "      <td>...</td>\n",
       "      <td>...</td>\n",
       "      <td>...</td>\n",
       "      <td>...</td>\n",
       "      <td>...</td>\n",
       "      <td>...</td>\n",
       "      <td>...</td>\n",
       "      <td>...</td>\n",
       "      <td>...</td>\n",
       "      <td>...</td>\n",
       "      <td>...</td>\n",
       "      <td>...</td>\n",
       "      <td>...</td>\n",
       "      <td>...</td>\n",
       "      <td>...</td>\n",
       "    </tr>\n",
       "    <tr>\n",
       "      <th>5488</th>\n",
       "      <td>733.0</td>\n",
       "      <td>201711</td>\n",
       "      <td>203710</td>\n",
       "      <td>37964.0</td>\n",
       "      <td>0</td>\n",
       "      <td>2</td>\n",
       "      <td>I</td>\n",
       "      <td>70.0</td>\n",
       "      <td>30.0</td>\n",
       "      <td>133000</td>\n",
       "      <td>...</td>\n",
       "      <td>2</td>\n",
       "      <td>WELLSFARGOBANK,NA</td>\n",
       "      <td>WELLSFARGOBANK,NA</td>\n",
       "      <td>N</td>\n",
       "      <td>1</td>\n",
       "      <td>2017</td>\n",
       "      <td>11</td>\n",
       "      <td>2037</td>\n",
       "      <td>10</td>\n",
       "      <td>0.0</td>\n",
       "    </tr>\n",
       "    <tr>\n",
       "      <th>5489</th>\n",
       "      <td>791.0</td>\n",
       "      <td>201805</td>\n",
       "      <td>204804</td>\n",
       "      <td>40420.0</td>\n",
       "      <td>0</td>\n",
       "      <td>1</td>\n",
       "      <td>P</td>\n",
       "      <td>42.0</td>\n",
       "      <td>49.0</td>\n",
       "      <td>190000</td>\n",
       "      <td>...</td>\n",
       "      <td>2</td>\n",
       "      <td>Other sellers</td>\n",
       "      <td>Other servicers</td>\n",
       "      <td>N</td>\n",
       "      <td>1</td>\n",
       "      <td>2018</td>\n",
       "      <td>5</td>\n",
       "      <td>2048</td>\n",
       "      <td>4</td>\n",
       "      <td>0.0</td>\n",
       "    </tr>\n",
       "    <tr>\n",
       "      <th>5490</th>\n",
       "      <td>641.0</td>\n",
       "      <td>201805</td>\n",
       "      <td>204804</td>\n",
       "      <td>35614.0</td>\n",
       "      <td>0</td>\n",
       "      <td>3</td>\n",
       "      <td>P</td>\n",
       "      <td>75.0</td>\n",
       "      <td>42.0</td>\n",
       "      <td>649000</td>\n",
       "      <td>...</td>\n",
       "      <td>2</td>\n",
       "      <td>LOANDEPOTCOM,LLC</td>\n",
       "      <td>Other servicers</td>\n",
       "      <td>N</td>\n",
       "      <td>1</td>\n",
       "      <td>2018</td>\n",
       "      <td>5</td>\n",
       "      <td>2048</td>\n",
       "      <td>4</td>\n",
       "      <td>0.0</td>\n",
       "    </tr>\n",
       "    <tr>\n",
       "      <th>5491</th>\n",
       "      <td>665.0</td>\n",
       "      <td>201807</td>\n",
       "      <td>204806</td>\n",
       "      <td>NaN</td>\n",
       "      <td>0</td>\n",
       "      <td>1</td>\n",
       "      <td>P</td>\n",
       "      <td>71.0</td>\n",
       "      <td>42.0</td>\n",
       "      <td>170000</td>\n",
       "      <td>...</td>\n",
       "      <td>2</td>\n",
       "      <td>Other sellers</td>\n",
       "      <td>Other servicers</td>\n",
       "      <td>N</td>\n",
       "      <td>0</td>\n",
       "      <td>2018</td>\n",
       "      <td>7</td>\n",
       "      <td>2048</td>\n",
       "      <td>6</td>\n",
       "      <td>0.0</td>\n",
       "    </tr>\n",
       "    <tr>\n",
       "      <th>5492</th>\n",
       "      <td>735.0</td>\n",
       "      <td>201704</td>\n",
       "      <td>204703</td>\n",
       "      <td>NaN</td>\n",
       "      <td>0</td>\n",
       "      <td>1</td>\n",
       "      <td>P</td>\n",
       "      <td>74.0</td>\n",
       "      <td>44.0</td>\n",
       "      <td>96000</td>\n",
       "      <td>...</td>\n",
       "      <td>1</td>\n",
       "      <td>BRANCHBANKING&amp;TRUSTC</td>\n",
       "      <td>BRANCHBANKINGANDTRUS</td>\n",
       "      <td>N</td>\n",
       "      <td>1</td>\n",
       "      <td>2017</td>\n",
       "      <td>4</td>\n",
       "      <td>2047</td>\n",
       "      <td>3</td>\n",
       "      <td>0.0</td>\n",
       "    </tr>\n",
       "  </tbody>\n",
       "</table>\n",
       "<p>5493 rows × 29 columns</p>\n",
       "</div>"
      ],
      "text/plain": [
       "       fico dt_first_pi dt_matr   cd_msa mi_pct cnt_units occpy_sts  cltv  \\\n",
       "0     790.0      201706  204705  47664.0      0         1         P  80.0   \n",
       "1     620.0      201710  203209      NaN      0         1         P  70.0   \n",
       "2     763.0      201707  204706  13900.0      0         1         P  80.0   \n",
       "3     734.0      201703  204702      NaN      0         1         P  49.0   \n",
       "4     757.0      201801  204712  41740.0      0         1         P  50.0   \n",
       "...     ...         ...     ...      ...    ...       ...       ...   ...   \n",
       "5488  733.0      201711  203710  37964.0      0         2         I  70.0   \n",
       "5489  791.0      201805  204804  40420.0      0         1         P  42.0   \n",
       "5490  641.0      201805  204804  35614.0      0         3         P  75.0   \n",
       "5491  665.0      201807  204806      NaN      0         1         P  71.0   \n",
       "5492  735.0      201704  204703      NaN      0         1         P  74.0   \n",
       "\n",
       "       dti orig_upb  ... cnt_borr           seller_name         servicer_name  \\\n",
       "0     19.0   147000  ...        2  UNITEDSHOREFINANCIAL       Other servicers   \n",
       "1     32.0    80000  ...        1         Other sellers       Other servicers   \n",
       "2     37.0   288000  ...        2  CALIBERHOMELOANS,INC  CALIBERHOMELOANS,INC   \n",
       "3     45.0   220000  ...        1         Other sellers       Other servicers   \n",
       "4     48.0   424000  ...        2     WELLSFARGOBANK,NA     WELLSFARGOBANK,NA   \n",
       "...    ...      ...  ...      ...                   ...                   ...   \n",
       "5488  30.0   133000  ...        2     WELLSFARGOBANK,NA     WELLSFARGOBANK,NA   \n",
       "5489  49.0   190000  ...        2         Other sellers       Other servicers   \n",
       "5490  42.0   649000  ...        2      LOANDEPOTCOM,LLC       Other servicers   \n",
       "5491  42.0   170000  ...        2         Other sellers       Other servicers   \n",
       "5492  44.0    96000  ...        1  BRANCHBANKING&TRUSTC  BRANCHBANKINGANDTRUS   \n",
       "\n",
       "     flag_sc prepaid year_first_pi month_first_pi year_matr month_matr default  \n",
       "0          N       1          2017              6      2047          5     1.0  \n",
       "1          N       1          2017             10      2032          9     0.0  \n",
       "2          N       1          2017              7      2047          6     0.0  \n",
       "3          N       0          2017              3      2047          2     0.0  \n",
       "4          N       1          2018              1      2047         12     0.0  \n",
       "...      ...     ...           ...            ...       ...        ...     ...  \n",
       "5488       N       1          2017             11      2037         10     0.0  \n",
       "5489       N       1          2018              5      2048          4     0.0  \n",
       "5490       N       1          2018              5      2048          4     0.0  \n",
       "5491       N       0          2018              7      2048          6     0.0  \n",
       "5492       N       1          2017              4      2047          3     0.0  \n",
       "\n",
       "[5493 rows x 29 columns]"
      ]
     },
     "execution_count": 197,
     "metadata": {},
     "output_type": "execute_result"
    }
   ],
   "source": [
    "df_train"
   ]
  },
  {
   "cell_type": "code",
   "execution_count": null,
   "metadata": {},
   "outputs": [],
   "source": []
  },
  {
   "cell_type": "code",
   "execution_count": null,
   "metadata": {},
   "outputs": [],
   "source": [
    "#convert X_train to a matrix\n",
    "X_train = X_train.values"
   ]
  },
  {
   "cell_type": "code",
   "execution_count": 273,
   "metadata": {},
   "outputs": [],
   "source": [
    "#Oversample the train set, leave the test/valid sets as they are\n",
    "oversample = RandomOverSampler(sampling_strategy='minority')\n",
    "X_otrain, y_otrain = oversample.fit_resample(X_train, y_train)"
   ]
  },
  {
   "cell_type": "code",
   "execution_count": null,
   "metadata": {},
   "outputs": [],
   "source": [
    "#Undersample the train set, leave the test/valid sets as they are\n",
    "undersample = RandomUnderSampler(sampling_strategy='majority')\n",
    "X_utrain, y_utrain = undersample.fit_resample(X_train, y_train)"
   ]
  },
  {
   "cell_type": "code",
   "execution_count": 275,
   "metadata": {},
   "outputs": [
    {
     "data": {
      "text/plain": [
       "0    4335\n",
       "1    4335\n",
       "Name: default, dtype: int64"
      ]
     },
     "execution_count": 275,
     "metadata": {},
     "output_type": "execute_result"
    }
   ],
   "source": [
    "y_train.value_counts()"
   ]
  },
  {
   "cell_type": "markdown",
   "metadata": {
    "cell_id": "853e4d50d5b94ee58f24a09b5822ac1c",
    "deepnote_cell_type": "markdown"
   },
   "source": [
    "# Model Fitting and Tuning\n",
    "\n",
    "*In this section you should detail your choice of model and describe the process used to refine and fit that model. You are strongly encouraged to explore many different modeling methods (e.g. linear regression, interaction terms, lasso, etc.) but you should not include a detailed narrative of all of these attempts. At most this section should mention the methods explored and why they were rejected - most of your effort should go into describing the model you are using and your process for tuning and validating it.*\n",
    "\n",
    "*For example if you considered a linear regression model, a polynomial regression, and a lasso model and ultimately settled on the linear regression approach then you should mention that other two approaches were tried but do not include any of the code or any in depth discussion of these models beyond why they were rejected. This section should then detail is the development of the linear regression model in terms of features used, interactions considered, and any additional tuning and validation which ultimately led to your final model.* \n",
    "\n",
    "*This section should also include the full implementation of your final model, including all necessary validation. As with figures, any included code must also be addressed in the text of the document.*\n",
    "\n",
    "*Finally, you should also provide comparison of your model with baseline model(s) on the test data but only briefly describe the baseline model(s) considered*"
   ]
  },
  {
   "cell_type": "markdown",
   "metadata": {
    "cell_id": "9253c78a6fa444f0a548664eda0fc678",
    "deepnote_cell_type": "markdown"
   },
   "source": [
    "# Discussion & Conclusions\n",
    "\n",
    "*In this section you should provide a general overview of your final model, its performance, and reliability. You should discuss what the implications of your model are in terms of the included features, predictive performance, and anything else you think is relevant.*\n",
    "\n",
    "*This should be written with a target audience of a government official or charity directy, who is understands the pressing challenges associated with ageining and dementia but may only have university level mathematics (not necessarily postgraduate statistics or machine learning). Your goal should be to highlight to this audience how your model can useful. You should also mention potential limitations of your model.*\n",
    "\n",
    "*Finally, you should include recommendations on potential lifestyle changes or governmental/societal interventions to reduce dementia risk.*\n",
    "\n",
    "*Keep in mind that a negative result, i.e. a model that does not work well predictively, that is well explained and justified in terms of why it failed will likely receive higher marks than a model with strong predictive performance but with poor or incorrect explinations / justifications.*"
   ]
  },
  {
   "cell_type": "markdown",
   "metadata": {
    "cell_id": "4f98e37a549e47b2b58c99b78c3f0496",
    "deepnote_cell_type": "markdown"
   },
   "source": [
    "# References\n",
    "\n",
    "*Include references if any*"
   ]
  },
  {
   "cell_type": "code",
   "execution_count": null,
   "metadata": {
    "cell_id": "615724a3c1e54900913f27adb7d3c47e",
    "deepnote_cell_type": "code"
   },
   "outputs": [],
   "source": [
    "# Run the following to render to PDF\n",
    "!jupyter nbconvert --to pdf project2.ipynb"
   ]
  },
  {
   "cell_type": "markdown",
   "metadata": {
    "created_in_deepnote_cell": true,
    "deepnote_cell_type": "markdown"
   },
   "source": [
    "<a style='text-decoration:none;line-height:16px;display:flex;color:#5B5B62;padding:10px;justify-content:end;' href='https://deepnote.com?utm_source=created-in-deepnote-cell&projectId=a2a9ec8d-a343-4210-b36b-f9db26268fc5' target=\"_blank\">\n",
    "<img alt='Created in deepnote.com' style='display:inline;max-height:16px;margin:0px;margin-right:7.5px;' src='data:image/svg+xml;base64,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' > </img>\n",
    "Created in <span style='font-weight:600;margin-left:4px;'>Deepnote</span></a>"
   ]
  }
 ],
 "metadata": {
  "deepnote_execution_queue": [],
  "deepnote_notebook_id": "d2f25b2b0abf4f65af08d733185ca9f1",
  "kernelspec": {
   "display_name": "Python 3 (ipykernel)",
   "language": "python",
   "name": "python3"
  },
  "language_info": {
   "codemirror_mode": {
    "name": "ipython",
    "version": 3
   },
   "file_extension": ".py",
   "mimetype": "text/x-python",
   "name": "python",
   "nbconvert_exporter": "python",
   "pygments_lexer": "ipython3",
   "version": "3.9.13"
  }
 },
 "nbformat": 4,
 "nbformat_minor": 1
}
